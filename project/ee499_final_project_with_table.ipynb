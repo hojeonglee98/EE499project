{
 "cells": [
  {
   "cell_type": "markdown",
   "metadata": {},
   "source": [
    "# EE499 Final Project\n",
    "# Premier League Predictor\n",
    "Hojeong Lee and Nate Chism"
   ]
  },
  {
   "cell_type": "code",
   "execution_count": 2,
   "metadata": {},
   "outputs": [],
   "source": [
    "import numpy as np\n",
    "import autograd.numpy as np\n",
    "import matplotlib.pyplot as plt\n",
    "from matplotlib import cm\n",
    "from autograd import grad \n",
    "from autograd import hessian\n",
    "import math\n",
    "import copy\n",
    "import pandas as pd\n",
    "import sys\n",
    "import time\n",
    "from IPython.display import clear_output\n",
    "readDataPath = './readData/'\n",
    "sys.path.append('./')\n",
    "\n",
    "from sklearn.linear_model import Perceptron"
   ]
  },
  {
   "cell_type": "code",
   "execution_count": 3,
   "metadata": {},
   "outputs": [
    {
     "name": "stdout",
     "output_type": "stream",
     "text": [
      "(4070, 114)\n",
      "[[0 'https://www.premierleague.com/match/7186' '10/11' ... 0.78 -4.0 55.6]\n",
      " [1 'https://www.premierleague.com/match/7404' '10/11' ... 0.32 17.0 60.2]\n",
      " [2 'https://www.premierleague.com/match/7255' '10/11' ... 0.38 9.0 66.7]\n",
      " ...\n",
      " [4067 'https://www.premierleague.com/match/59178' '20/21' ... 0.69 4.0\n",
      "  64.1]\n",
      " [4068 'https://www.premierleague.com/match/59182' '20/21' ... 0.42 6.0\n",
      "  54.2]\n",
      " [4069 'https://www.premierleague.com/match/59052' '20/21' ... 0.87 5.0\n",
      "  71.1]]\n"
     ]
    }
   ],
   "source": [
    "season_data = pd.read_csv('./readData/df_full_premierleague.csv')\n",
    "season_csv_to_array = np.array(season_data)\n",
    "# print(range(0, len(house_csv_to_array) -1))\n",
    "print(season_csv_to_array.shape)\n",
    "print(season_csv_to_array)"
   ]
  },
  {
   "cell_type": "code",
   "execution_count": 4,
   "metadata": {},
   "outputs": [
    {
     "name": "stdout",
     "output_type": "stream",
     "text": [
      "nan\n"
     ]
    }
   ],
   "source": [
    "# 2, 4, 5, 6, 8 - 31, 38 - 49, 56  \n",
    "print(season_csv_to_array[5][100])"
   ]
  },
  {
   "cell_type": "code",
   "execution_count": 5,
   "metadata": {},
   "outputs": [
    {
     "name": "stdout",
     "output_type": "stream",
     "text": [
      "4070\n",
      "114\n",
      "[678.  -1.   0.]\n"
     ]
    }
   ],
   "source": [
    "i, j = season_csv_to_array.shape\n",
    "print(i)\n",
    "print(j)\n",
    "match_target_scores = np.zeros((i,3))\n",
    "# match_teams = np.array((i, 3))\n",
    "for it_1 in range(0, i):\n",
    "    # store game unique id\n",
    "    match_target_scores[it_1][0] = season_csv_to_array[it_1][0]\n",
    "    #store game unique id, home team, away team\n",
    "    # match_teams[it_1][0] = season_csv_to_array[it_1][0]\n",
    "    # match_teams[it_1][1] = season_csv_to_array[it_1][4]\n",
    "    # match_teams[it_1][2] = season_csv_to_array[it_1][5]\n",
    "    if season_csv_to_array[it_1][34] > 0:\n",
    "        match_target_scores[it_1][1] = 1\n",
    "    elif season_csv_to_array[it_1][34] < 0:\n",
    "        match_target_scores[it_1][1] = -1\n",
    "    else:\n",
    "        match_target_scores[it_1][1] = 0\n",
    "\n",
    "print(match_target_scores[678])"
   ]
  },
  {
   "cell_type": "code",
   "execution_count": 6,
   "metadata": {},
   "outputs": [
    {
     "name": "stdout",
     "output_type": "stream",
     "text": [
      "[  5.   10.   15.    5.    9.    4.  609.   65.6   0.   19.    4.   23.\n",
      " 820.    2.   32.    3.    7.    0.  313.   34.4   0.    9.    4.   21.\n",
      " 527.    2.    0.    0.    0.    0.    0.    0.    0.    0.    0.    0.\n",
      "   0.    0.    0.    0.    0.    0.    0.    0.    0.    0.    0.    0.\n",
      "   0.    0.    0.    0.    0.    0.    0.    0.    0.    0.    0.    0.\n",
      "   0.    0.    0.    0.    0.    0.    0.    0.    0.    0.    0.    0.\n",
      "   0.    0.    0.    0.    0.    0.    0.    0.    0.    0.    0.    0.\n",
      "   0.    0.    0.    0.    0.    0.    0.    0.    0.    0.    0.    0.\n",
      "   0.    0.    0.    0.    0.    0. ]\n"
     ]
    }
   ],
   "source": [
    "season_data_cleaned = np.zeros((i, 102))\n",
    "\n",
    "# print(season_csv_to_array[5])\n",
    "season_csv_to_array[pd.isnull(season_csv_to_array)] = 0\n",
    "# print(season_csv_to_array[5])\n",
    "# 2, 4, 5, 6, 8 - 31, 38 - 49, 56  \n",
    "for it in range(0, i):\n",
    "    ct = 0\n",
    "    for it2 in range(0, j):\n",
    "        \n",
    "        # if(np.isnan(season_csv_to_array[it][it2])):\n",
    "        #     print(season_csv_to_array[it][it2])\n",
    "\n",
    "        if it2 not in [1, 2, 3, 4, 5, 6, 7, 32, 33, 34, 35, 36, 37]:\n",
    "            season_data_cleaned[it][ct] = season_csv_to_array[it][it2]\n",
    "            # print(ct)\n",
    "            ct = ct + 1\n",
    "\n",
    "        elif it2 == 2:\n",
    "            season_number = (int)(season_csv_to_array[it][it2][0] + season_csv_to_array[it][it2][1])\n",
    "            season_data_cleaned[it][ct] = season_number\n",
    "            ct = ct + 1\n",
    "\n",
    "        \n",
    "        \n",
    "\n",
    "# print(season_data_cleaned)\n",
    "print(season_data_cleaned[5])\n"
   ]
  },
  {
   "cell_type": "code",
   "execution_count": 7,
   "metadata": {},
   "outputs": [
    {
     "name": "stdout",
     "output_type": "stream",
     "text": [
      "it:  4069  ct:  102  it2:  113\n"
     ]
    }
   ],
   "source": [
    "print(\"it: \", it, \" ct: \", ct, \" it2: \", it2)"
   ]
  },
  {
   "cell_type": "code",
   "execution_count": 8,
   "metadata": {},
   "outputs": [
    {
     "name": "stdout",
     "output_type": "stream",
     "text": [
      "20.0\n"
     ]
    }
   ],
   "source": [
    "print(season_data_cleaned[4000][1])"
   ]
  },
  {
   "cell_type": "code",
   "execution_count": 9,
   "metadata": {},
   "outputs": [
    {
     "data": {
      "text/plain": [
       "123.0"
      ]
     },
     "execution_count": 9,
     "metadata": {},
     "output_type": "execute_result"
    }
   ],
   "source": [
    "season_data_cleaned[123][0]"
   ]
  },
  {
   "cell_type": "code",
   "execution_count": 10,
   "metadata": {},
   "outputs": [],
   "source": [
    "seasons_10to18 = np.zeros((3419, 102))\n",
    "season_19 = np.zeros((380, 102))\n",
    "season_20 = np.zeros((271, 102))\n",
    "\n",
    "Y_train = np.zeros((3419,))\n",
    "Y_test1 = np.zeros((380,))\n",
    "Y_test2 = np.zeros((271,))\n",
    "\n",
    "ct1 = 0\n",
    "ct2 = 0\n",
    "ct3 = 0\n",
    "for it in range(0, i):\n",
    "    target_index = season_data_cleaned[it][0]\n",
    "    if season_data_cleaned[it][1] < 19:\n",
    "        seasons_10to18[ct1] = season_data_cleaned[it]\n",
    "        Y_train[ct1] = match_target_scores[it][1]\n",
    "        ct1 = ct1 + 1\n",
    "    elif season_data_cleaned[it][1] == 19:\n",
    "        season_19[ct2] = season_data_cleaned[it]\n",
    "        Y_test1[ct2] = match_target_scores[it][1]\n",
    "        ct2 = ct2 + 1\n",
    "        # print(it)\n",
    "    elif season_data_cleaned[it][1] == 20:\n",
    "        season_20[ct3] = season_data_cleaned[it]\n",
    "        Y_test2[ct3] = match_target_scores[it][1]\n",
    "        ct3 = ct3 + 1\n",
    "        # print(it)\n",
    "    else:\n",
    "        print('THIS SHOULD NEVER HAPPEN')"
   ]
  },
  {
   "cell_type": "code",
   "execution_count": 11,
   "metadata": {},
   "outputs": [
    {
     "name": "stdout",
     "output_type": "stream",
     "text": [
      "(3419, 102)\n",
      "(380, 102)\n",
      "(271, 102)\n"
     ]
    }
   ],
   "source": [
    "print(seasons_10to18.shape)\n",
    "print(season_19.shape)\n",
    "print(season_20.shape)"
   ]
  },
  {
   "cell_type": "code",
   "execution_count": 12,
   "metadata": {},
   "outputs": [],
   "source": [
    "X_train = seasons_10to18\n",
    "X_test1 = season_19\n",
    "X_test2 = season_20\n",
    "\n"
   ]
  },
  {
   "cell_type": "code",
   "execution_count": 13,
   "metadata": {},
   "outputs": [
    {
     "name": "stdout",
     "output_type": "stream",
     "text": [
      "Liverpool\n"
     ]
    }
   ],
   "source": [
    "print(season_csv_to_array[1][4])"
   ]
  },
  {
   "cell_type": "code",
   "execution_count": 14,
   "metadata": {},
   "outputs": [],
   "source": [
    "#model 1: Perceptron\n",
    "\n",
    "# perc_clf = Perceptron(tol=1e-3, random_state=13)\n",
    "# perc_clf.fit(X_train, Y_train)\n",
    "# Perceptron()\n",
    "\n"
   ]
  },
  {
   "cell_type": "code",
   "execution_count": 15,
   "metadata": {},
   "outputs": [],
   "source": [
    "# perc_clf.score(X_train, Y_train)"
   ]
  },
  {
   "cell_type": "code",
   "execution_count": 16,
   "metadata": {},
   "outputs": [],
   "source": [
    "from sklearn.linear_model import SGDClassifier\n",
    "linear_clf = SGDClassifier()"
   ]
  },
  {
   "cell_type": "code",
   "execution_count": 17,
   "metadata": {},
   "outputs": [
    {
     "data": {
      "text/html": [
       "<style>#sk-container-id-1 {color: black;background-color: white;}#sk-container-id-1 pre{padding: 0;}#sk-container-id-1 div.sk-toggleable {background-color: white;}#sk-container-id-1 label.sk-toggleable__label {cursor: pointer;display: block;width: 100%;margin-bottom: 0;padding: 0.3em;box-sizing: border-box;text-align: center;}#sk-container-id-1 label.sk-toggleable__label-arrow:before {content: \"▸\";float: left;margin-right: 0.25em;color: #696969;}#sk-container-id-1 label.sk-toggleable__label-arrow:hover:before {color: black;}#sk-container-id-1 div.sk-estimator:hover label.sk-toggleable__label-arrow:before {color: black;}#sk-container-id-1 div.sk-toggleable__content {max-height: 0;max-width: 0;overflow: hidden;text-align: left;background-color: #f0f8ff;}#sk-container-id-1 div.sk-toggleable__content pre {margin: 0.2em;color: black;border-radius: 0.25em;background-color: #f0f8ff;}#sk-container-id-1 input.sk-toggleable__control:checked~div.sk-toggleable__content {max-height: 200px;max-width: 100%;overflow: auto;}#sk-container-id-1 input.sk-toggleable__control:checked~label.sk-toggleable__label-arrow:before {content: \"▾\";}#sk-container-id-1 div.sk-estimator input.sk-toggleable__control:checked~label.sk-toggleable__label {background-color: #d4ebff;}#sk-container-id-1 div.sk-label input.sk-toggleable__control:checked~label.sk-toggleable__label {background-color: #d4ebff;}#sk-container-id-1 input.sk-hidden--visually {border: 0;clip: rect(1px 1px 1px 1px);clip: rect(1px, 1px, 1px, 1px);height: 1px;margin: -1px;overflow: hidden;padding: 0;position: absolute;width: 1px;}#sk-container-id-1 div.sk-estimator {font-family: monospace;background-color: #f0f8ff;border: 1px dotted black;border-radius: 0.25em;box-sizing: border-box;margin-bottom: 0.5em;}#sk-container-id-1 div.sk-estimator:hover {background-color: #d4ebff;}#sk-container-id-1 div.sk-parallel-item::after {content: \"\";width: 100%;border-bottom: 1px solid gray;flex-grow: 1;}#sk-container-id-1 div.sk-label:hover label.sk-toggleable__label {background-color: #d4ebff;}#sk-container-id-1 div.sk-serial::before {content: \"\";position: absolute;border-left: 1px solid gray;box-sizing: border-box;top: 0;bottom: 0;left: 50%;z-index: 0;}#sk-container-id-1 div.sk-serial {display: flex;flex-direction: column;align-items: center;background-color: white;padding-right: 0.2em;padding-left: 0.2em;position: relative;}#sk-container-id-1 div.sk-item {position: relative;z-index: 1;}#sk-container-id-1 div.sk-parallel {display: flex;align-items: stretch;justify-content: center;background-color: white;position: relative;}#sk-container-id-1 div.sk-item::before, #sk-container-id-1 div.sk-parallel-item::before {content: \"\";position: absolute;border-left: 1px solid gray;box-sizing: border-box;top: 0;bottom: 0;left: 50%;z-index: -1;}#sk-container-id-1 div.sk-parallel-item {display: flex;flex-direction: column;z-index: 1;position: relative;background-color: white;}#sk-container-id-1 div.sk-parallel-item:first-child::after {align-self: flex-end;width: 50%;}#sk-container-id-1 div.sk-parallel-item:last-child::after {align-self: flex-start;width: 50%;}#sk-container-id-1 div.sk-parallel-item:only-child::after {width: 0;}#sk-container-id-1 div.sk-dashed-wrapped {border: 1px dashed gray;margin: 0 0.4em 0.5em 0.4em;box-sizing: border-box;padding-bottom: 0.4em;background-color: white;}#sk-container-id-1 div.sk-label label {font-family: monospace;font-weight: bold;display: inline-block;line-height: 1.2em;}#sk-container-id-1 div.sk-label-container {text-align: center;}#sk-container-id-1 div.sk-container {/* jupyter's `normalize.less` sets `[hidden] { display: none; }` but bootstrap.min.css set `[hidden] { display: none !important; }` so we also need the `!important` here to be able to override the default hidden behavior on the sphinx rendered scikit-learn.org. See: https://github.com/scikit-learn/scikit-learn/issues/21755 */display: inline-block !important;position: relative;}#sk-container-id-1 div.sk-text-repr-fallback {display: none;}</style><div id=\"sk-container-id-1\" class=\"sk-top-container\"><div class=\"sk-text-repr-fallback\"><pre>SGDClassifier()</pre><b>In a Jupyter environment, please rerun this cell to show the HTML representation or trust the notebook. <br />On GitHub, the HTML representation is unable to render, please try loading this page with nbviewer.org.</b></div><div class=\"sk-container\" hidden><div class=\"sk-item\"><div class=\"sk-estimator sk-toggleable\"><input class=\"sk-toggleable__control sk-hidden--visually\" id=\"sk-estimator-id-1\" type=\"checkbox\" checked><label for=\"sk-estimator-id-1\" class=\"sk-toggleable__label sk-toggleable__label-arrow\">SGDClassifier</label><div class=\"sk-toggleable__content\"><pre>SGDClassifier()</pre></div></div></div></div></div>"
      ],
      "text/plain": [
       "SGDClassifier()"
      ]
     },
     "execution_count": 17,
     "metadata": {},
     "output_type": "execute_result"
    }
   ],
   "source": [
    "linear_clf.fit(X_train, Y_train)"
   ]
  },
  {
   "cell_type": "code",
   "execution_count": 18,
   "metadata": {},
   "outputs": [
    {
     "data": {
      "text/plain": [
       "0.6074875694647558"
      ]
     },
     "execution_count": 18,
     "metadata": {},
     "output_type": "execute_result"
    }
   ],
   "source": [
    "linear_clf.score(X_train,Y_train)"
   ]
  },
  {
   "cell_type": "code",
   "execution_count": 19,
   "metadata": {},
   "outputs": [
    {
     "name": "stdout",
     "output_type": "stream",
     "text": [
      "\n",
      "The coefficients of the linear boundary are: [[-1.62026494e+01 -1.06183102e+02 -2.82393437e+03 -1.90588704e+02\n",
      "  -1.38066500e+02 -1.53747248e+02  2.39078038e+02  5.95462784e+02\n",
      "   1.50639566e+02 -1.46995749e+03 -1.80717661e+03 -5.21284066e+02\n",
      "  -2.61970508e+02  1.17071852e+02  2.37638066e+03  6.65186366e+01\n",
      "  -3.50788545e+02  5.57722235e+01 -9.68126091e+01 -1.70094369e+03\n",
      "  -1.09599180e+02  1.86683937e+03  2.40245199e+03  6.61912624e+02\n",
      "   2.64247893e+02 -4.60221666e+00  4.14908810e+02 -6.43717263e+01\n",
      "  -1.45128767e+02 -2.87401313e+01  1.91808054e+02 -9.75361535e+01\n",
      "  -6.93416458e+00 -2.47869696e+02 -1.20039570e+02 -4.40531770e+01\n",
      "  -1.65656077e+01 -1.52679724e+01  1.43185873e+01 -4.03192135e+00\n",
      "  -1.75690807e+02  2.74391748e+01 -3.93062514e+00  1.07464131e+01\n",
      "  -2.61382183e+02 -9.97893418e+02  1.85296155e+02 -3.00116716e+01\n",
      "  -3.25950808e+00 -1.02335269e+02  1.01386358e+02  4.89637896e+00\n",
      "   3.26090773e+02  1.49085725e+02  2.02300634e+02  4.69188871e+01\n",
      "   9.72396189e+01 -2.63370151e+00 -6.14322383e+01  4.60933349e+01\n",
      "   1.93682153e+01 -3.27775089e+01  2.16897252e+02 -7.24137440e+01\n",
      "   5.60462214e+02 -1.31082517e+02 -1.41235861e+02 -5.35707508e+01\n",
      "  -2.61462841e+02 -1.59108593e+02 -2.00220147e+00 -3.35655792e+02\n",
      "  -1.46912719e+02 -4.73743642e+00 -5.82583694e+01  1.91822288e+01\n",
      "  -1.91369183e+01 -2.51098364e+01 -9.12994382e+02 -1.58657861e+01\n",
      "  -5.80235140e+00 -4.20936765e+02 -1.82957090e+02 -8.17631234e+02\n",
      "   1.56802740e+02  1.58617532e+02  1.09361952e+00 -1.45342272e+02\n",
      "   2.27181071e+02  1.49026418e+01  4.45620303e+02  2.25382885e+02\n",
      "   8.28256661e+01  2.13924789e+02  6.07943331e+01  2.75067847e+01\n",
      "  -3.03217282e+01  7.43661277e+02  6.26114970e+00 -1.40792246e+01\n",
      "   4.82283838e+02  5.47680388e+02]\n",
      " [-4.90595989e+01  1.49234922e+01 -3.49872984e+02 -5.16905553e+01\n",
      "   2.31590491e+02 -2.01898268e+02 -6.41688057e+02  3.71086452e+02\n",
      "  -1.45255324e+01 -8.35627129e+02 -1.14464291e+03 -9.16855145e+01\n",
      "   5.12948064e+02  1.90799612e+02  7.96560743e+02 -1.30751901e+02\n",
      "   4.25043168e+02  7.60545382e+01 -1.47178797e+02  5.34039933e+01\n",
      "  -1.12534186e+01 -1.11539286e+02 -4.34793183e+02 -2.02008813e+02\n",
      "   5.01429339e+01  1.78263878e+02  9.77654558e+01 -1.76820169e+02\n",
      "  -9.30496322e+01  1.49765535e+01  2.24732317e+02 -1.18415147e+01\n",
      "   1.16226368e+01 -4.91853984e+02 -2.19423975e+02  1.36004970e+02\n",
      "  -1.60187660e+02  2.32762261e+01 -9.61698581e+01  2.02393507e+01\n",
      "  -5.00279677e+02 -2.03229223e+01  1.59435958e+01 -2.68401771e+02\n",
      "   2.26775177e+02  4.20256596e+02  7.84688276e+01  4.39325502e+01\n",
      "   3.62961440e+01  8.98040490e+01  4.79033046e+01 -3.42024333e+00\n",
      "   1.14638951e+02  3.68356006e+01 -8.19023362e+01 -6.95677936e+01\n",
      "  -4.01983608e+01 -7.10137141e-01  2.18123973e+01  2.50803105e+02\n",
      "   1.67731209e+01  4.01490581e+01 -1.43862465e+02  1.42142394e+02\n",
      "   4.73594262e+01 -6.31385320e+01 -1.78706056e+01  8.27203647e+01\n",
      "   1.64737667e+02  5.03794989e+01  1.19830115e+00 -2.39326387e+02\n",
      "  -1.15185040e+02  1.24114816e+02 -1.05536726e+02 -9.33878980e+00\n",
      "  -6.70557829e+01  1.92851316e+01 -2.55998691e+02 -1.97677684e+01\n",
      "   4.78016038e+00 -5.76378433e+01 -3.16450995e+02 -2.20111561e+02\n",
      "   1.67541073e+01 -5.74764485e+01 -5.54932822e+00  2.60343086e+02\n",
      "  -5.55551871e+01 -1.67740053e+01  2.71585450e+01 -5.76886937e+01\n",
      "   1.46307707e+02 -2.04697252e+02 -1.05702543e+01 -1.50475230e+01\n",
      "  -1.15083339e+01 -1.18547800e+02  1.57006193e+01  1.11552552e+01\n",
      "  -9.41395999e+01  1.11400000e+02]\n",
      " [ 2.42677090e+00  7.10475905e+01  2.99435130e+03  2.40637570e+02\n",
      "  -1.06571386e+02  3.20953360e+02  3.31951279e+02 -1.13456445e+03\n",
      "  -1.35847537e+02  2.17975660e+03  2.84409804e+03  6.82516407e+02\n",
      "  -2.35861478e+02 -2.96066049e+02 -3.41397614e+03  9.17525933e+01\n",
      "  -4.08420379e+01 -1.23300615e+02  2.09192815e+02  1.62508197e+03\n",
      "   1.26192087e+02 -1.81305603e+03 -2.01734367e+03 -4.43866724e+02\n",
      "  -2.00415133e+02 -1.82188534e+02 -5.01538676e+02  1.99292106e+02\n",
      "   2.44861184e+02 -4.54115958e+00 -3.49145209e+02  7.26611350e+01\n",
      "  -5.00586039e+00  6.74533879e+02  3.03033980e+02 -3.03217279e+01\n",
      "   2.62610173e+02 -1.27895990e+01  6.74804955e+01 -2.55156888e+01\n",
      "   5.64456584e+02 -9.57283669e+00 -1.57688475e+01  2.26541645e+02\n",
      "  -8.40488865e+01  4.81140892e+02 -2.98639976e+02  2.04494173e+01\n",
      "  -4.37102745e+01 -1.19737909e+01 -2.16811326e+02 -2.91212508e+00\n",
      "  -4.75807159e+02 -1.95533193e+02 -8.59696499e+00  1.40881796e+01\n",
      "  -5.09544438e+01 -2.24083894e+01  3.44480129e+01 -2.64492211e+02\n",
      "  -4.15256644e+01 -6.70046935e+00 -8.54791324e+01  6.62818256e+01\n",
      "  -6.05099833e+02  1.61656503e+02  1.75680141e+02 -3.82913468e+01\n",
      "   8.69739200e+01  3.65642087e+01 -1.71939300e+00  5.36788814e+02\n",
      "   2.62509488e+02  2.53003774e+00  2.17668441e+02 -2.96634017e+00\n",
      "   7.65049852e+01 -5.64224234e+00  1.06803736e+03  3.06883252e+01\n",
      "  -8.46013642e-01  3.21624594e+02  5.36269898e+02  9.63394485e+02\n",
      "  -2.07408880e+02 -1.07185824e+02 -1.20305876e+01 -1.04387292e+02\n",
      "  -1.96191519e+02 -3.20127225e+00 -5.42019280e+02 -1.94167488e+02\n",
      "  -1.48753311e+02 -1.37414611e+02 -3.74523036e+01 -3.55552917e+01\n",
      "   3.45634136e+01 -7.46077151e+02 -2.90097226e+01  4.23316621e+00\n",
      "  -4.30700201e+02 -6.98179405e+02]]\n",
      "\n",
      "The point of intersection of the line are: [-99.14162177 111.96261747  15.80361667]\n"
     ]
    }
   ],
   "source": [
    "print (\"\\nThe coefficients of the linear boundary are:\", linear_clf.coef_)\n",
    "print (\"\\nThe point of intersection of the line are:\",linear_clf.intercept_)"
   ]
  },
  {
   "cell_type": "code",
   "execution_count": 20,
   "metadata": {},
   "outputs": [
    {
     "data": {
      "text/plain": [
       "0.5473684210526316"
      ]
     },
     "execution_count": 20,
     "metadata": {},
     "output_type": "execute_result"
    }
   ],
   "source": [
    "linear_clf.score(X_test1,Y_test1)"
   ]
  },
  {
   "cell_type": "code",
   "execution_count": 21,
   "metadata": {},
   "outputs": [
    {
     "data": {
      "text/plain": [
       "0.4797047970479705"
      ]
     },
     "execution_count": 21,
     "metadata": {},
     "output_type": "execute_result"
    }
   ],
   "source": [
    "linear_clf.score(X_test2,Y_test2)"
   ]
  },
  {
   "cell_type": "code",
   "execution_count": 22,
   "metadata": {},
   "outputs": [],
   "source": [
    "y_pred1 = linear_clf.predict(X_test1)\n",
    "y_pred2 = linear_clf.predict(X_test2)"
   ]
  },
  {
   "cell_type": "code",
   "execution_count": 23,
   "metadata": {},
   "outputs": [],
   "source": [
    "standing = {}\n",
    "indexofteams = []\n",
    "for i in range(len(season_csv_to_array)):\n",
    "    season_number = (int)(season_csv_to_array[i][2][0] + season_csv_to_array[i][2][1])\n",
    "    if season_number == 19:\n",
    "        indexofteams.append(i)\n",
    "        if (season_csv_to_array[i][4]) in standing:\n",
    "            standing[season_csv_to_array[i][4]] = 0\n",
    "        else:\n",
    "            standing[season_csv_to_array[i][4]] = 0"
   ]
  },
  {
   "cell_type": "code",
   "execution_count": 24,
   "metadata": {},
   "outputs": [],
   "source": [
    "i= 3419\n",
    "for ind in range(len(y_pred1)):\n",
    "    if y_pred1[ind] == 1:\n",
    "        standing[season_csv_to_array[i][4]] += 3\n",
    "    elif y_pred1[ind] == 0:\n",
    "        standing[season_csv_to_array[i][4]] += 1\n",
    "        standing[season_csv_to_array[i][5]] += 1\n",
    "    else:\n",
    "        standing[season_csv_to_array[i][5]] += 3\n",
    "    i=i+1\n"
   ]
  },
  {
   "cell_type": "code",
   "execution_count": 25,
   "metadata": {
    "scrolled": true
   },
   "outputs": [
    {
     "name": "stdout",
     "output_type": "stream",
     "text": [
      "{'Sheffield United': 54, 'Wolverhampton Wanderers': 39, 'West Ham United': 51, 'Norwich City': 51, 'Tottenham Hotspur': 63, 'Southampton': 51, 'Aston Villa': 51, 'Liverpool': 75, 'Manchester United': 69, 'Crystal Palace': 54, 'Chelsea': 72, 'Brighton and Hove Albion': 57, 'Manchester City': 81, 'Leicester City': 81, 'AFC Bournemouth': 48, 'Newcastle United': 48, 'Watford': 45, 'Burnley': 39, 'Everton': 57, 'Arsenal': 54}\n"
     ]
    }
   ],
   "source": [
    "print(standing)"
   ]
  },
  {
   "cell_type": "code",
   "execution_count": 26,
   "metadata": {},
   "outputs": [],
   "source": [
    "sorted_dict = dict(sorted(standing.items(), key=lambda x: x[1], reverse=True))"
   ]
  },
  {
   "cell_type": "code",
   "execution_count": 27,
   "metadata": {},
   "outputs": [
    {
     "name": "stdout",
     "output_type": "stream",
     "text": [
      "{'Manchester City': 81, 'Leicester City': 81, 'Liverpool': 75, 'Chelsea': 72, 'Manchester United': 69, 'Tottenham Hotspur': 63, 'Brighton and Hove Albion': 57, 'Everton': 57, 'Sheffield United': 54, 'Crystal Palace': 54, 'Arsenal': 54, 'West Ham United': 51, 'Norwich City': 51, 'Southampton': 51, 'Aston Villa': 51, 'AFC Bournemouth': 48, 'Newcastle United': 48, 'Watford': 45, 'Wolverhampton Wanderers': 39, 'Burnley': 39}\n"
     ]
    }
   ],
   "source": [
    "print(sorted_dict)"
   ]
  },
  {
   "cell_type": "code",
   "execution_count": 28,
   "metadata": {},
   "outputs": [],
   "source": [
    "standing = {}\n",
    "indexofteams = []\n",
    "for i in range(len(season_csv_to_array)):\n",
    "    season_number = (int)(season_csv_to_array[i][2][0] + season_csv_to_array[i][2][1])\n",
    "    if season_number == 20:\n",
    "        indexofteams.append(i)\n",
    "        if (season_csv_to_array[i][4]) in standing:\n",
    "            standing[season_csv_to_array[i][4]] = 0\n",
    "        else:\n",
    "            standing[season_csv_to_array[i][4]] = 0"
   ]
  },
  {
   "cell_type": "code",
   "execution_count": 29,
   "metadata": {},
   "outputs": [],
   "source": [
    "i= 3799\n",
    "for ind in range(len(y_pred2)):\n",
    "    if y_pred2[ind] == 1:\n",
    "        standing[season_csv_to_array[i][4]] += 3\n",
    "    elif y_pred2[ind] == 0:\n",
    "        standing[season_csv_to_array[i][4]] += 1\n",
    "        standing[season_csv_to_array[i][5]] += 1\n",
    "    else:\n",
    "        standing[season_csv_to_array[i][5]] += 3\n",
    "    i=i+1"
   ]
  },
  {
   "cell_type": "code",
   "execution_count": 46,
   "metadata": {},
   "outputs": [
    {
     "name": "stdout",
     "output_type": "stream",
     "text": [
      "{'Manchester City': 66, 'Everton': 54, 'Leicester City': 51, 'Brighton and Hove Albion': 48, 'Wolverhampton Wanderers': 45, 'Chelsea': 45, 'Liverpool': 45, 'Manchester United': 42, 'Leeds United': 42, 'Southampton': 42, 'West Ham United': 42, 'Newcastle United': 42, 'Tottenham Hotspur': 39, 'Arsenal': 36, 'Fulham': 36, 'Crystal Palace': 33, 'Aston Villa': 30, 'West Bromwich Albion': 27, 'Sheffield United': 24, 'Burnley': 24}\n",
      "0 \t Manchester City : 66\n",
      "1 \t Everton : 54\n",
      "2 \t Leicester City : 51\n",
      "3 \t Brighton and Hove Albion : 48\n",
      "4 \t Wolverhampton Wanderers : 45\n",
      "5 \t Chelsea : 45\n",
      "6 \t Liverpool : 45\n",
      "7 \t Manchester United : 42\n",
      "8 \t Leeds United : 42\n",
      "9 \t Southampton : 42\n",
      "10 \t West Ham United : 42\n",
      "11 \t Newcastle United : 42\n",
      "12 \t Tottenham Hotspur : 39\n",
      "13 \t Arsenal : 36\n",
      "14 \t Fulham : 36\n",
      "15 \t Crystal Palace : 33\n",
      "16 \t Aston Villa : 30\n",
      "17 \t West Bromwich Albion : 27\n",
      "18 \t Sheffield United : 24\n",
      "19 \t Burnley : 24\n"
     ]
    }
   ],
   "source": [
    "sorted_dict = dict(sorted(standing.items(), key=lambda x: x[1], reverse=True))\n",
    "print(sorted_dict)\n",
    "ct = 0\n",
    "for it in sorted_dict:\n",
    "    print(ct, '\\t', it, ':', sorted_dict[it])\n",
    "    ct = ct+1"
   ]
  },
  {
   "cell_type": "code",
   "execution_count": null,
   "metadata": {},
   "outputs": [],
   "source": []
  }
 ],
 "metadata": {
  "kernelspec": {
   "display_name": "Python 3 (ipykernel)",
   "language": "python",
   "name": "python3"
  },
  "language_info": {
   "codemirror_mode": {
    "name": "ipython",
    "version": 3
   },
   "file_extension": ".py",
   "mimetype": "text/x-python",
   "name": "python",
   "nbconvert_exporter": "python",
   "pygments_lexer": "ipython3",
   "version": "3.9.15"
  }
 },
 "nbformat": 4,
 "nbformat_minor": 2
}
