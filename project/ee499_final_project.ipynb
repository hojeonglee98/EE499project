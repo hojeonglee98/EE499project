{
 "cells": [
  {
   "attachments": {},
   "cell_type": "markdown",
   "metadata": {},
   "source": [
    "# EE499 Final Project\n",
    "# Premier League Predictor\n",
    "Hojeong Lee and Nate Chism"
   ]
  },
  {
   "cell_type": "code",
   "execution_count": 2,
   "metadata": {},
   "outputs": [],
   "source": [
    "import numpy as np\n",
    "import autograd.numpy as np\n",
    "import matplotlib.pyplot as plt\n",
    "from matplotlib import cm\n",
    "from autograd import grad \n",
    "from autograd import hessian\n",
    "import math\n",
    "import copy\n",
    "import pandas as pd\n",
    "import sys\n",
    "import time\n",
    "from IPython.display import clear_output\n",
    "readDataPath = './readData/'\n",
    "sys.path.append('./')"
   ]
  },
  {
   "cell_type": "code",
   "execution_count": 3,
   "metadata": {},
   "outputs": [
    {
     "name": "stdout",
     "output_type": "stream",
     "text": [
      "(4070, 114)\n",
      "[[0 'https://www.premierleague.com/match/7186' '10/11' ... 0.78 -4.0 55.6]\n",
      " [1 'https://www.premierleague.com/match/7404' '10/11' ... 0.32 17.0 60.2]\n",
      " [2 'https://www.premierleague.com/match/7255' '10/11' ... 0.38 9.0 66.7]\n",
      " ...\n",
      " [4067 'https://www.premierleague.com/match/59178' '20/21' ... 0.69 4.0\n",
      "  64.1]\n",
      " [4068 'https://www.premierleague.com/match/59182' '20/21' ... 0.42 6.0\n",
      "  54.2]\n",
      " [4069 'https://www.premierleague.com/match/59052' '20/21' ... 0.87 5.0\n",
      "  71.1]]\n"
     ]
    }
   ],
   "source": [
    "season_data = pd.read_csv('./readData/df_full_premierleague.csv')\n",
    "season_csv_to_array = np.array(season_data)\n",
    "# print(range(0, len(house_csv_to_array) -1))\n",
    "print(season_csv_to_array.shape)\n",
    "print(season_csv_to_array)"
   ]
  },
  {
   "cell_type": "code",
   "execution_count": 4,
   "metadata": {},
   "outputs": [
    {
     "name": "stdout",
     "output_type": "stream",
     "text": [
      "Blackpool\n"
     ]
    }
   ],
   "source": [
    "# 2, 4, 5, 6, 8 - 31, 38 - 49, 56  \n",
    "print(season_csv_to_array[0][4])"
   ]
  },
  {
   "cell_type": "code",
   "execution_count": 11,
   "metadata": {},
   "outputs": [
    {
     "name": "stdout",
     "output_type": "stream",
     "text": [
      "4070\n",
      "114\n",
      "[678.  -1.   0.]\n"
     ]
    }
   ],
   "source": [
    "i, j = season_csv_to_array.shape\n",
    "print(i)\n",
    "print(j)\n",
    "match_target_scores = np.zeros((i,3))\n",
    "# match_teams = np.array((i, 3))\n",
    "for it_1 in range(0, i):\n",
    "    # store game unique id\n",
    "    match_target_scores[it_1][0] = season_csv_to_array[it_1][0]\n",
    "    #store game unique id, home team, away team\n",
    "    # match_teams[it_1][0] = season_csv_to_array[it_1][0]\n",
    "    # match_teams[it_1][1] = season_csv_to_array[it_1][4]\n",
    "    # match_teams[it_1][2] = season_csv_to_array[it_1][5]\n",
    "    if season_csv_to_array[it_1][34] > 0:\n",
    "        match_target_scores[it_1][1] = 1\n",
    "    elif season_csv_to_array[it_1][34] < 0:\n",
    "        match_target_scores[it_1][1] = -1\n",
    "    else:\n",
    "        match_target_scores[it_1][1] = 0\n",
    "\n",
    "print(match_target_scores[678])"
   ]
  },
  {
   "cell_type": "code",
   "execution_count": 6,
   "metadata": {},
   "outputs": [
    {
     "name": "stdout",
     "output_type": "stream",
     "text": [
      "[ 4.420e+02  1.100e+01  2.700e+01  7.000e+00  2.000e+01  1.000e+00\n",
      "  2.620e+02  4.300e+01  0.000e+00  1.300e+01  4.000e+00  1.900e+01\n",
      "  4.530e+02  3.000e+00  3.100e+01  8.000e+00  1.200e+01  6.000e+00\n",
      "  3.710e+02  5.700e+01  0.000e+00  1.300e+01  6.000e+00  5.000e+00\n",
      "  5.610e+02  2.000e+00  3.400e+01  5.100e+00  1.190e+01  1.700e+00\n",
      "  3.711e+02  4.820e+01  2.000e-01  1.320e+01  4.900e+00  2.080e+01\n",
      "  5.839e+02  1.000e+00  1.170e+00  2.080e+00 -1.100e+01  5.000e-01\n",
      "  1.170e+00 -8.000e+00  2.220e+01  2.850e+01  4.200e+00  1.220e+01\n",
      "  1.800e+00  3.952e+02  4.790e+01  2.000e-01  1.140e+01  3.400e+00\n",
      "  2.080e+01  5.841e+02  1.400e+00  8.300e-01  2.250e+00 -1.700e+01\n",
      "  4.200e-01  1.000e+00 -7.000e+00  2.220e+01  3.290e+01  5.000e+00\n",
      "  1.150e+01  1.400e+00  3.691e+02  4.640e+01  2.000e-01  1.260e+01\n",
      "  4.500e+00  2.020e+01  5.816e+02  1.400e+00  1.170e+00  2.040e+00\n",
      " -2.100e+01  5.000e-01  8.800e-01 -9.000e+00  2.780e+01  2.500e+01\n",
      "  5.100e+00  1.310e+01  1.700e+00  4.105e+02  4.890e+01  1.000e-01\n",
      "  1.320e+01  3.900e+00  2.020e+01  6.006e+02  1.700e+00  8.800e-01\n",
      "  2.040e+00 -2.800e+01  4.200e-01  9.600e-01 -1.300e+01  2.220e+01]\n"
     ]
    }
   ],
   "source": [
    "season_data_cleaned = np.zeros((i, 102))\n",
    "\n",
    "\n",
    "# 2, 4, 5, 6, 8 - 31, 38 - 49, 56  \n",
    "for it in range(0, i):\n",
    "    ct = 0\n",
    "    for it2 in range(0, j):\n",
    "        \n",
    "        if it2 not in [1, 2, 3, 4, 5, 6, 7, 32, 33, 34, 35, 36, 37]:\n",
    "            season_data_cleaned[it][ct] = season_csv_to_array[it][it2]\n",
    "            # print(ct)\n",
    "            ct = ct + 1\n",
    "\n",
    "        elif it2 == 2:\n",
    "            season_number = (int)(season_csv_to_array[it][it2][0] + season_csv_to_array[it][it2][1])\n",
    "            season_data_cleaned[it][ct] = season_number\n",
    "            ct = ct + 1\n",
    "        \n",
    "\n",
    "# print(season_data_cleaned)\n",
    "print(season_data_cleaned[442])\n"
   ]
  },
  {
   "cell_type": "code",
   "execution_count": 7,
   "metadata": {},
   "outputs": [
    {
     "name": "stdout",
     "output_type": "stream",
     "text": [
      "it:  4069  ct:  102  it2:  113\n"
     ]
    }
   ],
   "source": [
    "print(\"it: \", it, \" ct: \", ct, \" it2: \", it2)"
   ]
  },
  {
   "cell_type": "code",
   "execution_count": 8,
   "metadata": {},
   "outputs": [
    {
     "name": "stdout",
     "output_type": "stream",
     "text": [
      "20.0\n"
     ]
    }
   ],
   "source": [
    "print(season_data_cleaned[4000][1])"
   ]
  },
  {
   "cell_type": "code",
   "execution_count": 15,
   "metadata": {},
   "outputs": [
    {
     "data": {
      "text/plain": [
       "123.0"
      ]
     },
     "execution_count": 15,
     "metadata": {},
     "output_type": "execute_result"
    }
   ],
   "source": [
    "season_data_cleaned[123][0]"
   ]
  },
  {
   "cell_type": "code",
   "execution_count": 22,
   "metadata": {},
   "outputs": [],
   "source": [
    "seasons_10to18 = np.zeros((3419, 102))\n",
    "season_19 = np.zeros((380, 102))\n",
    "season_20 = np.zeros((271, 102))\n",
    "\n",
    "Y_train = np.zeros((3419,))\n",
    "Y_test1 = np.zeros((380,))\n",
    "Y_test2 = np.zeros((271,))\n",
    "\n",
    "ct1 = 0\n",
    "ct2 = 0\n",
    "ct3 = 0\n",
    "for it in range(0, i):\n",
    "    target_index = season_data_cleaned[it][0]\n",
    "    if season_data_cleaned[it][1] < 19:\n",
    "        seasons_10to18[ct1] = season_data_cleaned[it]\n",
    "        Y_train[ct1] = match_target_scores[it][1]\n",
    "        ct1 = ct1 + 1\n",
    "    elif season_data_cleaned[it][1] == 19:\n",
    "        season_19[ct2] = season_data_cleaned[it]\n",
    "        Y_test1[ct2] = match_target_scores[it][1]\n",
    "        ct2 = ct2 + 1\n",
    "        # print(it)\n",
    "    elif season_data_cleaned[it][1] == 20:\n",
    "        season_20[ct3] = season_data_cleaned[it]\n",
    "        Y_test2[ct3] = match_target_scores[it][1]\n",
    "        ct3 = ct3 + 1\n",
    "        # print(it)\n",
    "    else:\n",
    "        print('THIS SHOULD NEVER HAPPEN')"
   ]
  },
  {
   "cell_type": "code",
   "execution_count": 19,
   "metadata": {},
   "outputs": [
    {
     "name": "stdout",
     "output_type": "stream",
     "text": [
      "(3419, 102)\n",
      "(380, 102)\n",
      "(271, 102)\n"
     ]
    }
   ],
   "source": [
    "print(seasons_10to18.shape)\n",
    "print(season_19.shape)\n",
    "print(season_20.shape)"
   ]
  },
  {
   "cell_type": "code",
   "execution_count": 24,
   "metadata": {},
   "outputs": [
    {
     "name": "stdout",
     "output_type": "stream",
     "text": [
      "[-1.  1. -1.  1. -1. -1.  1.  0.  1.  1. -1. -1.  1.  1.  1. -1.  0.  1.\n",
      " -1.  1.  1.  1. -1. -1.  1.  0.  0. -1.  0.  0. -1.  1. -1.  1.  1. -1.\n",
      "  1.  1.  0.  1. -1.  1. -1.  1. -1.  0. -1.  1.  1. -1. -1.  1.  1. -1.\n",
      "  0.  0.  1. -1. -1.  1.  0. -1.  1.  1.  1. -1.  0.  1.  1. -1.  0.  1.\n",
      " -1.  0. -1.  1. -1.  1.  1. -1.  1.  0.  0.  1.  1.  0.  0.  1. -1. -1.\n",
      " -1. -1.  0. -1.  1.  0.  1.  0. -1.  1.  1.  1.  1.  0.  1.  0.  1. -1.\n",
      "  1. -1.  0. -1.  1. -1.  0.  1.  1. -1.  1.  0.  0.  0.  1.  0. -1.  0.\n",
      " -1.  1.  1. -1.  1. -1. -1.  1.  1. -1.  0.  1.  1. -1. -1.  1. -1. -1.\n",
      "  0.  0.  1. -1.  0. -1.  0.  0.  0.  1. -1. -1. -1.  1. -1. -1. -1. -1.\n",
      "  1.  1. -1.  0.  1. -1. -1.  1.  0.  1.  0.  0.  0. -1. -1.  0.  1.  0.\n",
      "  0. -1. -1.  1. -1.  0. -1. -1. -1.  1.  1. -1. -1.  1.  1. -1. -1.  1.\n",
      "  1.  1. -1.  1. -1. -1. -1.  1.  0. -1. -1.  0. -1.  1.  0. -1.  0.  0.\n",
      " -1. -1. -1. -1. -1. -1. -1. -1.  1. -1.  0.  1.  1.  1.  1. -1.  1.  1.\n",
      "  1.  1. -1. -1. -1. -1. -1.  1.  1.  0. -1.  1.  0.  0.  0.  1. -1.  1.\n",
      "  0.  0. -1. -1.  1.  0.  1.  0.  0. -1. -1. -1. -1. -1. -1.  0.  0.  1.\n",
      "  0.]\n"
     ]
    }
   ],
   "source": [
    "X_train = seasons_10to18\n",
    "X_test1 = season_19\n",
    "X_test2 = season_20\n",
    "\n"
   ]
  },
  {
   "cell_type": "code",
   "execution_count": null,
   "metadata": {},
   "outputs": [],
   "source": []
  }
 ],
 "metadata": {
  "kernelspec": {
   "display_name": "ee499_ML",
   "language": "python",
   "name": "python3"
  },
  "language_info": {
   "codemirror_mode": {
    "name": "ipython",
    "version": 3
   },
   "file_extension": ".py",
   "mimetype": "text/x-python",
   "name": "python",
   "nbconvert_exporter": "python",
   "pygments_lexer": "ipython3",
   "version": "3.9.15"
  },
  "orig_nbformat": 4
 },
 "nbformat": 4,
 "nbformat_minor": 2
}
