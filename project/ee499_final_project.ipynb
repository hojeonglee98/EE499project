{
 "cells": [
  {
   "attachments": {},
   "cell_type": "markdown",
   "metadata": {},
   "source": [
    "# EE499 Final Project\n",
    "# Premier League Predictor\n",
    "Hojeong Lee and Nate Chism"
   ]
  },
  {
   "cell_type": "code",
   "execution_count": 37,
   "metadata": {},
   "outputs": [],
   "source": [
    "import numpy as np\n",
    "import autograd.numpy as np\n",
    "import matplotlib.pyplot as plt\n",
    "from matplotlib import cm\n",
    "from autograd import grad \n",
    "from autograd import hessian\n",
    "import math\n",
    "import copy\n",
    "import pandas as pd\n",
    "import sys\n",
    "import time\n",
    "from IPython.display import clear_output\n",
    "readDataPath = './readData/'\n",
    "sys.path.append('./')\n",
    "\n",
    "from sklearn.linear_model import Perceptron\n",
    "from sklearn.linear_model import LogisticRegression\n",
    "from sklearn.linear_model import LogisticRegressionCV\n",
    "from sklearn.linear_model import RidgeClassifier\n",
    "from sklearn import svm \n",
    "from sklearn import metrics"
   ]
  },
  {
   "cell_type": "code",
   "execution_count": 38,
   "metadata": {},
   "outputs": [
    {
     "name": "stdout",
     "output_type": "stream",
     "text": [
      "(4070, 114)\n",
      "[[0 'https://www.premierleague.com/match/7186' '10/11' ... 0.78 -4.0 55.6]\n",
      " [1 'https://www.premierleague.com/match/7404' '10/11' ... 0.32 17.0 60.2]\n",
      " [2 'https://www.premierleague.com/match/7255' '10/11' ... 0.38 9.0 66.7]\n",
      " ...\n",
      " [4067 'https://www.premierleague.com/match/59178' '20/21' ... 0.69 4.0\n",
      "  64.1]\n",
      " [4068 'https://www.premierleague.com/match/59182' '20/21' ... 0.42 6.0\n",
      "  54.2]\n",
      " [4069 'https://www.premierleague.com/match/59052' '20/21' ... 0.87 5.0\n",
      "  71.1]]\n"
     ]
    }
   ],
   "source": [
    "season_data = pd.read_csv('./readData/df_full_premierleague.csv')\n",
    "season_csv_to_array = np.array(season_data)\n",
    "# print(range(0, len(house_csv_to_array) -1))\n",
    "print(season_csv_to_array.shape)\n",
    "print(season_csv_to_array)"
   ]
  },
  {
   "cell_type": "code",
   "execution_count": 39,
   "metadata": {},
   "outputs": [
    {
     "name": "stdout",
     "output_type": "stream",
     "text": [
      "nan\n"
     ]
    }
   ],
   "source": [
    "# 2, 4, 5, 6, 8 - 31, 38 - 49, 56  \n",
    "print(season_csv_to_array[5][100])"
   ]
  },
  {
   "cell_type": "code",
   "execution_count": 40,
   "metadata": {},
   "outputs": [
    {
     "name": "stdout",
     "output_type": "stream",
     "text": [
      "4070\n",
      "114\n",
      "[678.  -1.   0.]\n"
     ]
    }
   ],
   "source": [
    "i, j = season_csv_to_array.shape\n",
    "print(i)\n",
    "print(j)\n",
    "match_target_scores = np.zeros((i,3))\n",
    "# match_teams = np.array((i, 3))\n",
    "for it_1 in range(0, i):\n",
    "    # store game unique id\n",
    "    match_target_scores[it_1][0] = season_csv_to_array[it_1][0]\n",
    "    #store game unique id, home team, away team\n",
    "    # match_teams[it_1][0] = season_csv_to_array[it_1][0]\n",
    "    # match_teams[it_1][1] = season_csv_to_array[it_1][4]\n",
    "    # match_teams[it_1][2] = season_csv_to_array[it_1][5]\n",
    "    if season_csv_to_array[it_1][34] > 0:\n",
    "        match_target_scores[it_1][1] = 1\n",
    "    elif season_csv_to_array[it_1][34] < 0:\n",
    "        match_target_scores[it_1][1] = -1\n",
    "    else:\n",
    "        match_target_scores[it_1][1] = 0\n",
    "\n",
    "print(match_target_scores[678])"
   ]
  },
  {
   "cell_type": "code",
   "execution_count": 41,
   "metadata": {},
   "outputs": [
    {
     "name": "stdout",
     "output_type": "stream",
     "text": [
      "[  5.   10.   15.    5.    9.    4.  609.   65.6   0.   19.    4.   23.\n",
      " 820.    2.   32.    3.    7.    0.  313.   34.4   0.    9.    4.   21.\n",
      " 527.    2.    0.    0.    0.    0.    0.    0.    0.    0.    0.    0.\n",
      "   0.    0.    0.    0.    0.    0.    0.    0.    0.    0.    0.    0.\n",
      "   0.    0.    0.    0.    0.    0.    0.    0.    0.    0.    0.    0.\n",
      "   0.    0.    0.    0.    0.    0.    0.    0.    0.    0.    0.    0.\n",
      "   0.    0.    0.    0.    0.    0.    0.    0.    0.    0.    0.    0.\n",
      "   0.    0.    0.    0.    0.    0.    0.    0.    0.    0.    0.    0.\n",
      "   0.    0.    0.    0.    0.    0. ]\n"
     ]
    }
   ],
   "source": [
    "season_data_cleaned = np.zeros((i, 102))\n",
    "\n",
    "# print(season_csv_to_array[5])\n",
    "season_csv_to_array[pd.isnull(season_csv_to_array)] = 0\n",
    "# print(season_csv_to_array[5])\n",
    "# 2, 4, 5, 6, 8 - 31, 38 - 49, 56  \n",
    "for it in range(0, i):\n",
    "    ct = 0\n",
    "    for it2 in range(0, j):\n",
    "        \n",
    "        # if(np.isnan(season_csv_to_array[it][it2])):\n",
    "        #     print(season_csv_to_array[it][it2])\n",
    "\n",
    "        if it2 not in [1, 2, 3, 4, 5, 6, 7, 32, 33, 34, 35, 36, 37]:\n",
    "            season_data_cleaned[it][ct] = season_csv_to_array[it][it2]\n",
    "            # print(ct)\n",
    "            ct = ct + 1\n",
    "\n",
    "        elif it2 == 2:\n",
    "            season_number = (int)(season_csv_to_array[it][it2][0] + season_csv_to_array[it][it2][1])\n",
    "            season_data_cleaned[it][ct] = season_number\n",
    "            ct = ct + 1\n",
    "\n",
    "        \n",
    "        \n",
    "\n",
    "# print(season_data_cleaned)\n",
    "print(season_data_cleaned[5])\n"
   ]
  },
  {
   "cell_type": "code",
   "execution_count": 42,
   "metadata": {},
   "outputs": [
    {
     "name": "stdout",
     "output_type": "stream",
     "text": [
      "it:  4069  ct:  102  it2:  113\n"
     ]
    }
   ],
   "source": [
    "print(\"it: \", it, \" ct: \", ct, \" it2: \", it2)"
   ]
  },
  {
   "cell_type": "code",
   "execution_count": 43,
   "metadata": {},
   "outputs": [
    {
     "name": "stdout",
     "output_type": "stream",
     "text": [
      "20.0\n"
     ]
    }
   ],
   "source": [
    "print(season_data_cleaned[4000][1])"
   ]
  },
  {
   "cell_type": "code",
   "execution_count": 44,
   "metadata": {},
   "outputs": [
    {
     "data": {
      "text/plain": [
       "123.0"
      ]
     },
     "execution_count": 44,
     "metadata": {},
     "output_type": "execute_result"
    }
   ],
   "source": [
    "season_data_cleaned[123][0]"
   ]
  },
  {
   "cell_type": "code",
   "execution_count": 45,
   "metadata": {},
   "outputs": [],
   "source": [
    "seasons_train = np.zeros((3419, 102))\n",
    "season_18 = np.zeros((380, 102))\n",
    "season_19 = np.zeros((380, 102))\n",
    "\n",
    "Y_train = np.zeros((3419,))\n",
    "Y_test1 = np.zeros((380,))\n",
    "Y_test2 = np.zeros((380,))\n",
    "\n",
    "ct1 = 0\n",
    "ct2 = 0\n",
    "ct3 = 0\n",
    "for it in range(0, i):\n",
    "    target_index = season_data_cleaned[it][0]\n",
    "    if season_data_cleaned[it][1] not in [18, 19]:\n",
    "        seasons_train[ct1] = season_data_cleaned[it]\n",
    "        Y_train[ct1] = match_target_scores[it][1]\n",
    "        ct1 = ct1 + 1\n",
    "    elif season_data_cleaned[it][1] == 18:\n",
    "        season_18[ct2] = season_data_cleaned[it]\n",
    "        Y_test1[ct2] = match_target_scores[it][1]\n",
    "        ct2 = ct2 + 1\n",
    "        # print(it)\n",
    "    elif season_data_cleaned[it][1] == 19:\n",
    "        season_19[ct3] = season_data_cleaned[it]\n",
    "        Y_test2[ct3] = match_target_scores[it][1]\n",
    "        ct3 = ct3 + 1\n",
    "        # print(it)\n",
    "    else:\n",
    "        print('THIS SHOULD NEVER HAPPEN')"
   ]
  },
  {
   "attachments": {},
   "cell_type": "markdown",
   "metadata": {},
   "source": [
    "# Normalization"
   ]
  },
  {
   "cell_type": "code",
   "execution_count": 46,
   "metadata": {},
   "outputs": [
    {
     "name": "stdout",
     "output_type": "stream",
     "text": [
      "(3419, 102)\n",
      "(380, 102)\n",
      "(380, 102)\n"
     ]
    }
   ],
   "source": [
    "from sklearn.preprocessing import MinMaxScaler\n",
    "from sklearn import preprocessing\n",
    "from sklearn.preprocessing import StandardScaler\n",
    "\n",
    "print(seasons_train.shape)\n",
    "print(season_18.shape)\n",
    "print(season_19.shape)\n",
    "\n",
    "norm = MinMaxScaler(feature_range=(0,2)).fit(seasons_train)\n",
    "seasons_train_normalized = norm.transform(seasons_train)\n",
    "season_18_normalized = norm.transform(season_18)\n",
    "season_19_normalized = norm.transform(season_19)\n",
    "\n",
    "\n",
    "# seasons_train_normalized = preprocessing.normalize(X=seasons_train, norm='max')\n",
    "# season_18_normalized = preprocessing.normalize(X=season_18, norm='max')\n",
    "# season_19_normalized = preprocessing.normalize(X=season_19, norm='max')\n",
    "\n",
    "scaler = StandardScaler().fit(seasons_train)\n",
    "seasons_train_scaled = scaler.transform(seasons_train)\n",
    "season_18_scaled = scaler.transform(season_18)\n",
    "season_19_scaled = scaler.transform(season_19)"
   ]
  },
  {
   "cell_type": "code",
   "execution_count": 47,
   "metadata": {},
   "outputs": [],
   "source": [
    "# ideas: \n",
    "    # normalize based on different probabilities\n",
    "        #USE X*w0, X*w1, X*w2 for the 3 probabilities\n",
    "    # train on 3 batches of 800\n",
    "    # create a validation set to use for comparing models"
   ]
  },
  {
   "cell_type": "code",
   "execution_count": 48,
   "metadata": {},
   "outputs": [],
   "source": [
    "# X_train = seasons_train\n",
    "# X_test1 = season_18\n",
    "# X_test2 = season_19\n",
    "\n",
    "X_train = seasons_train_normalized\n",
    "X_test1 = season_18_normalized\n",
    "X_test2 = season_19_normalized\n",
    "\n",
    "# X_train = seasons_train_scaled\n",
    "# X_test1 = season_18_scaled\n",
    "# X_test2= season_19_scaled"
   ]
  },
  {
   "cell_type": "code",
   "execution_count": 49,
   "metadata": {},
   "outputs": [
    {
     "name": "stdout",
     "output_type": "stream",
     "text": [
      "Logistic Regression (Newton)\n",
      "Score train:  0.6832407136589647\n",
      "Score test 1:  0.7105263157894737\n",
      "Score test 2:  0.6210526315789474\n"
     ]
    }
   ],
   "source": [
    "#BEST SO FAR\n",
    "log_reg_clf = LogisticRegression(multi_class='ovr', random_state = 0, max_iter=1000, solver = 'newton-cg').fit(X_train, Y_train)\n",
    "\n",
    "print('Logistic Regression (Newton)')\n",
    "print('Score train: ', log_reg_clf.score(X_train, Y_train))\n",
    "print('Score test 1: ', log_reg_clf.score(X_test1, Y_test1))\n",
    "print('Score test 2: ', log_reg_clf.score(X_test2, Y_test2))"
   ]
  },
  {
   "cell_type": "code",
   "execution_count": 50,
   "metadata": {},
   "outputs": [],
   "source": [
    "# #model 1: Perceptron\n",
    "\n",
    "# perc_clf = Perceptron(alpha= .0001, tol=1e-3, random_state=859)\n",
    "# perc_clf.fit(X_train, Y_train)\n",
    "# Perceptron()\n",
    "\n",
    "# print('Score: ', perc_clf.score(X_train, Y_train))"
   ]
  },
  {
   "cell_type": "code",
   "execution_count": 51,
   "metadata": {},
   "outputs": [],
   "source": [
    "# perc_clf.score(X_train, Y_train)"
   ]
  },
  {
   "cell_type": "code",
   "execution_count": 52,
   "metadata": {},
   "outputs": [],
   "source": [
    "# score_hist = []\n",
    "# for it in range(0, 1000):\n",
    "#     perc_clf = Perceptron(alpha= .0001, tol=1e-3, random_state=it)\n",
    "#     perc_clf.fit(X_train, Y_train)\n",
    "#     Perceptron()\n",
    "#     score_hist.append(perc_clf.score(X_train, Y_train))\n",
    "                      \n",
    "# print('Max score: ', max(score_hist))"
   ]
  },
  {
   "cell_type": "code",
   "execution_count": 53,
   "metadata": {},
   "outputs": [],
   "source": [
    "# max_value_seed = max(score_hist)\n",
    "# max_index_seed = score_hist.index(max_value_seed)\n",
    "# print(max_index_seed)"
   ]
  },
  {
   "cell_type": "code",
   "execution_count": 54,
   "metadata": {},
   "outputs": [],
   "source": [
    "# alpha_values = []\n",
    "# val = 0.0001\n",
    "# for i in range(0, 10000):\n",
    "#     alpha_values.append(val)\n",
    "#     val = val + 0.0001"
   ]
  },
  {
   "cell_type": "code",
   "execution_count": 55,
   "metadata": {},
   "outputs": [],
   "source": [
    "# score_hist = []\n",
    "# for it in alpha_values:\n",
    "#     perc_clf = Perceptron(alpha= it, tol=1e-3, random_state=max_index_seed)\n",
    "#     perc_clf.fit(X_train, Y_train)\n",
    "#     Perceptron()\n",
    "#     score_hist.append(perc_clf.score(X_train, Y_train))\n",
    "             \n",
    "# print('Max score: ', max(score_hist))\n",
    "# max_value_alpha = max(score_hist)\n",
    "# max_index_alpha = score_hist.index(max_value_alpha)\n",
    "# print(max_index_alpha)"
   ]
  },
  {
   "cell_type": "code",
   "execution_count": 56,
   "metadata": {},
   "outputs": [],
   "source": [
    "# print('Max score: ', max(score_hist))\n",
    "# max_value_alpha = max(score_hist)\n",
    "# max_index_alpha = score_hist.index(max_value_alpha)\n",
    "# print(max_index_alpha)"
   ]
  },
  {
   "cell_type": "code",
   "execution_count": 57,
   "metadata": {},
   "outputs": [
    {
     "name": "stdout",
     "output_type": "stream",
     "text": [
      "Perceptron\n",
      "Score train:  0.6566247440772156\n",
      "Score test 1:  0.7\n",
      "Score test 2:  0.618421052631579\n"
     ]
    }
   ],
   "source": [
    "perc_clf = Perceptron(alpha= .0001, tol=1e-3, random_state=859)\n",
    "perc_clf.fit(X_train, Y_train)\n",
    "Perceptron()\n",
    "\n",
    "print('Perceptron')\n",
    "print('Score train: ', perc_clf.score(X_train, Y_train))\n",
    "print('Score test 1: ', perc_clf.score(X_test1, Y_test1))\n",
    "print('Score test 2: ', perc_clf.score(X_test2, Y_test2))"
   ]
  },
  {
   "cell_type": "code",
   "execution_count": 58,
   "metadata": {},
   "outputs": [
    {
     "name": "stdout",
     "output_type": "stream",
     "text": [
      "Logistic Regression (liblinear)\n",
      "Score train:  0.6817782977478795\n",
      "Score test 1:  0.7\n",
      "Score test 2:  0.6236842105263158\n"
     ]
    }
   ],
   "source": [
    "log_reg_clf = LogisticRegression(multi_class='ovr', random_state = 0, max_iter=10000, solver = 'liblinear').fit(X_train, Y_train)\n",
    "\n",
    "print('Logistic Regression (liblinear)')\n",
    "print('Score train: ', log_reg_clf.score(X_train, Y_train))\n",
    "print('Score test 1: ', log_reg_clf.score(X_test1, Y_test1))\n",
    "print('Score test 2: ', log_reg_clf.score(X_test2, Y_test2))"
   ]
  },
  {
   "cell_type": "code",
   "execution_count": 59,
   "metadata": {},
   "outputs": [],
   "source": [
    "# score_hist = []\n",
    "# for state_num in range(0, 1000):\n",
    "#     log_reg_clf = LogisticRegression(multi_class='ovr', random_state = state_num, max_iter=10000, solver = 'liblinear').fit(X_train, Y_train)\n",
    "\n",
    "#     score_hist.append(log_reg_clf.score(X_train, Y_train))\n",
    "\n",
    "# print('Max score: ', max(score_hist))\n",
    "# max_value_seed = max(score_hist)\n",
    "# max_index_seed = score_hist.index(max_value_seed)\n",
    "# print('Best random_state = ', max_index_seed)"
   ]
  },
  {
   "cell_type": "code",
   "execution_count": 60,
   "metadata": {},
   "outputs": [],
   "source": [
    "# print('Max score: ', max(score_hist))\n",
    "# max_value_seed = max(score_hist)\n",
    "# max_index_seed = score_hist.index(max_value_seed)\n",
    "# print('Best random_state = ', max_index_seed)\n",
    "# print(len(score_hist))"
   ]
  },
  {
   "attachments": {},
   "cell_type": "markdown",
   "metadata": {},
   "source": [
    "# Start Here"
   ]
  },
  {
   "cell_type": "code",
   "execution_count": 61,
   "metadata": {},
   "outputs": [
    {
     "name": "stdout",
     "output_type": "stream",
     "text": [
      "Logistic Regression (Newton)\n",
      "Score train:  0.6832407136589647\n",
      "Score test 1:  0.7105263157894737\n",
      "Score test 2:  0.6210526315789474\n"
     ]
    }
   ],
   "source": [
    "#BEST SO FAR\n",
    "log_reg_clf = LogisticRegression(multi_class='ovr', random_state = 0, max_iter=10000, solver = 'newton-cg').fit(X_train, Y_train)\n",
    "\n",
    "print('Logistic Regression (Newton)')\n",
    "print('Score train: ', log_reg_clf.score(X_train, Y_train))\n",
    "print('Score test 1: ', log_reg_clf.score(X_test1, Y_test1))\n",
    "print('Score test 2: ', log_reg_clf.score(X_test2, Y_test2))"
   ]
  },
  {
   "cell_type": "code",
   "execution_count": 62,
   "metadata": {},
   "outputs": [
    {
     "name": "stdout",
     "output_type": "stream",
     "text": [
      "classes:  [-1.  0.  1.]\n",
      "(102,)\n",
      "(102,)\n",
      "1:  3.1352069682955155\n",
      "2:  -5.931276362414783\n",
      "3:  5.273688947526151\n",
      "predict probabilities:  [0.12824196 0.24584345 0.62591459]\n"
     ]
    }
   ],
   "source": [
    "print('classes: ', log_reg_clf.classes_)\n",
    "\n",
    "print(X_test1[0].shape)\n",
    "print(log_reg_clf.coef_[0].shape)\n",
    "print('1: ', X_test1[41].T@log_reg_clf.coef_[0])\n",
    "print('2: ', X_test1[41].T@log_reg_clf.coef_[1])\n",
    "print('3: ', X_test1[41].T@log_reg_clf.coef_[2])\n",
    "print('predict probabilities: ', log_reg_clf.predict_proba(X_test1)[41])\n",
    "predictions1 = log_reg_clf.predict(X_test1)\n",
    "predictions2 = log_reg_clf.predict(X_test2)\n"
   ]
  },
  {
   "cell_type": "code",
   "execution_count": 63,
   "metadata": {},
   "outputs": [
    {
     "name": "stdout",
     "output_type": "stream",
     "text": [
      "Accuracy Score for season 1:  0.7105263157894737\n",
      "Balanced Accuracy Score for season 1:  0.6081704260651629\n",
      "Accuracy Score for season 2:  0.6210526315789474\n",
      "Balanced Accuracy Score for season 2:  0.5501748251748252\n"
     ]
    }
   ],
   "source": [
    "print('Accuracy Score for season 1: ', metrics.accuracy_score(predictions1, Y_test1))\n",
    "print('Balanced Accuracy Score for season 1: ', metrics.balanced_accuracy_score(predictions1, Y_test1))\n",
    "print('Accuracy Score for season 2: ', metrics.accuracy_score(predictions2, Y_test2))\n",
    "print('Balanced Accuracy Score for season 2: ', metrics.balanced_accuracy_score(predictions2, Y_test2))"
   ]
  },
  {
   "cell_type": "code",
   "execution_count": 64,
   "metadata": {},
   "outputs": [
    {
     "name": "stdout",
     "output_type": "stream",
     "text": [
      "==========\n",
      "0.07832830965045158\n",
      "0.07917630374450702\n",
      "0.8424953866050413\n",
      "==========\n",
      "0.07832830965045158 , 0.15750461339495858 , 0.9999999999999999\n",
      "==========\n",
      "0.6030429810112887\n",
      "+1\n"
     ]
    }
   ],
   "source": [
    "prob1 = log_reg_clf.predict_proba(X_test1)\n",
    "temp0 = prob1[0][0]\n",
    "temp1 = prob1[0][1]\n",
    "temp2 = prob1[0][2]\n",
    "print('==========')\n",
    "\n",
    "rand_num = np.random.random()\n",
    "\n",
    "print(temp0)\n",
    "print(temp1)\n",
    "print(temp2)\n",
    "\n",
    "thresh0 = temp0\n",
    "thresh1 = temp0+temp1\n",
    "thresh2 = temp0 + temp1 + temp2\n",
    "print('==========')\n",
    "print(thresh0, ',', thresh1, ',', thresh2)\n",
    "print('==========')\n",
    "if rand_num < thresh0:\n",
    "    print(rand_num)\n",
    "    print('-1')\n",
    "elif thresh0 < rand_num < thresh1:\n",
    "    print(rand_num)\n",
    "    print('0')\n",
    "else:\n",
    "    print(rand_num)\n",
    "    print('+1')\n",
    "\n"
   ]
  },
  {
   "cell_type": "code",
   "execution_count": 65,
   "metadata": {},
   "outputs": [
    {
     "name": "stdout",
     "output_type": "stream",
     "text": [
      "0.28872916330579157\n"
     ]
    }
   ],
   "source": [
    "print(np.random.random())"
   ]
  },
  {
   "cell_type": "code",
   "execution_count": 66,
   "metadata": {},
   "outputs": [],
   "source": [
    "prob1 = log_reg_clf.predict_proba(X_test1)\n",
    "prob2 = log_reg_clf.predict_proba(X_test2)\n",
    "\n",
    "max_pred1 = np.zeros(len(X_test1))\n",
    "random_pred1 = np.zeros(len(X_test1))\n",
    "max_pred2 = np.zeros(len(X_test2))\n",
    "random_pred2 = np.zeros(len(X_test2))\n",
    "\n",
    "for it in range(0, len(X_test1)):\n",
    "    max_pred1[it] = np.max(predictions1[it])\n",
    "    temp0 = prob1[it][0]\n",
    "    temp1 = prob1[it][1]\n",
    "    temp2 = prob1[it][2]\n",
    "    pick = np.random.random()\n",
    "\n",
    "    thresh0 = temp0\n",
    "    thresh1 = temp0+temp1\n",
    "    thresh2 = temp0 + temp1 + temp2\n",
    "    # print('==========')\n",
    "    # print(thresh0, ',', thresh1, ',', thresh2)\n",
    "    # print('==========')\n",
    "    if pick < thresh0:\n",
    "        # print(rand_num)\n",
    "        # print('-1')\n",
    "        random_pred1[it] = -1\n",
    "    elif thresh0 < pick < thresh1:\n",
    "        # print(rand_num)\n",
    "        # print('0')\n",
    "        random_pred1[it] = 0\n",
    "    else:\n",
    "        # print(rand_num)\n",
    "        # print('+1')\n",
    "        random_pred1[it] = 1\n",
    "\n",
    "for it in range(0, len(X_test2)):\n",
    "    max_pred2[it] = np.max(predictions2[it])\n",
    "    temp0 = prob2[it][0]\n",
    "    temp1 = prob2[it][1]\n",
    "    temp2 = prob2[it][2]\n",
    "    pick = np.random.random()\n",
    "\n",
    "    thresh0 = temp0\n",
    "    thresh1 = temp0+temp1\n",
    "    thresh2 = temp0 + temp1 + temp2\n",
    "    # print('==========')\n",
    "    # print(thresh0, ',', thresh1, ',', thresh2)\n",
    "    # print('==========')\n",
    "    if pick < thresh0:\n",
    "        # print(rand_num)\n",
    "        # print('-1')\n",
    "        random_pred2[it] = -1\n",
    "    elif thresh0 < pick < thresh1:\n",
    "        # print(rand_num)\n",
    "        # print('0')\n",
    "        random_pred2[it] = 0\n",
    "    else:\n",
    "        # print(rand_num)\n",
    "        # print('+1')\n",
    "        random_pred2[it] = 1\n",
    "\n",
    "model_pred1 = log_reg_clf.predict(X_test1)\n",
    "model_pred2 = log_reg_clf.predict(X_test2)"
   ]
  },
  {
   "cell_type": "code",
   "execution_count": 67,
   "metadata": {},
   "outputs": [
    {
     "name": "stdout",
     "output_type": "stream",
     "text": [
      "Model Accuracy Score for season 1:   0.7105263157894737\n",
      "Max Accuracy Score for season 1:     0.7105263157894737\n",
      "Random Accuracy Score for season 1:  0.5868421052631579\n",
      "\n",
      "\n",
      "Model Accuracy Score for season 2:   0.6210526315789474\n",
      "Max Accuracy Score for season 2:     0.6210526315789474\n",
      "Random Accuracy Score for season 2:  0.531578947368421\n"
     ]
    }
   ],
   "source": [
    "print('Model Accuracy Score for season 1:  ', metrics.accuracy_score(model_pred1, Y_test1))\n",
    "print('Max Accuracy Score for season 1:    ', metrics.accuracy_score(max_pred1, Y_test1))\n",
    "print('Random Accuracy Score for season 1: ', metrics.accuracy_score(random_pred1, Y_test1))\n",
    "print('\\n')\n",
    "print('Model Accuracy Score for season 2:  ', metrics.accuracy_score(model_pred2, Y_test2))\n",
    "print('Max Accuracy Score for season 2:    ', metrics.accuracy_score(max_pred2, Y_test2))\n",
    "print('Random Accuracy Score for season 2: ', metrics.accuracy_score(random_pred2, Y_test2))\n"
   ]
  },
  {
   "cell_type": "code",
   "execution_count": 68,
   "metadata": {},
   "outputs": [
    {
     "name": "stdout",
     "output_type": "stream",
     "text": [
      "946\n",
      "1482\n",
      "991\n",
      "3419\n",
      "3419\n",
      "==========\n",
      "800\n",
      "800\n",
      "800\n",
      "2400\n",
      "2400\n"
     ]
    }
   ],
   "source": [
    "# even size classes\n",
    "count = 0\n",
    "count1 = 0\n",
    "count2 = 0\n",
    "big_ct = 0\n",
    "X_train_trunc = np.zeros((2400, 102))\n",
    "Y_train_trunc = np.zeros(2400)\n",
    "\n",
    "\n",
    "for it in range(len(Y_train)):\n",
    "    index = it#np.random.randint(0, 3419)\n",
    "    if Y_train[it] == 0:\n",
    "        if count < 800:\n",
    "            X_train_trunc[big_ct] = X_train[index]\n",
    "            Y_train_trunc[big_ct] = Y_train[index]\n",
    "            big_ct = big_ct + 1\n",
    "        count = count + 1\n",
    "    if Y_train[it] == 1:\n",
    "        if count1 < 800:\n",
    "            X_train_trunc[big_ct] = X_train[index]\n",
    "            Y_train_trunc[big_ct] = Y_train[index]\n",
    "            big_ct = big_ct + 1\n",
    "        count1 = count1 + 1\n",
    "    if Y_train[it] == -1:\n",
    "        if count2 < 800:\n",
    "            X_train_trunc[big_ct] = X_train[index]\n",
    "            Y_train_trunc[big_ct] = Y_train[index]\n",
    "            big_ct = big_ct + 1\n",
    "        count2 = count2 + 1\n",
    "\n",
    "print(count)\n",
    "print(count1)\n",
    "print(count2)\n",
    "print(count + count1 + count2)\n",
    "print(len(Y_train))\n",
    "\n",
    "count = 0\n",
    "count1 = 0\n",
    "count2 = 0\n",
    "\n",
    "for it in range(len(Y_train_trunc)):\n",
    "    if Y_train_trunc[it] == 0:\n",
    "        # if count < 800:\n",
    "        #     X_train_trunc[big_ct] = X_train[it]\n",
    "        #     Y_train_trunc[big_ct] = Y_train[it]\n",
    "        #     big_ct = big_ct + 1\n",
    "        count = count + 1\n",
    "    if Y_train_trunc[it] == 1:\n",
    "        # if count1 < 800:\n",
    "        #     X_train_trunc[big_ct] = X_train[it]\n",
    "        #     Y_train_trunc[big_ct] = Y_train[it]\n",
    "        #     big_ct = big_ct + 1\n",
    "        count1 = count1 + 1\n",
    "    if Y_train_trunc[it] == -1:\n",
    "        # if count2 < 800:\n",
    "        #     X_train_trunc[big_ct] = X_train[it]\n",
    "        #     Y_train_trunc[big_ct] = Y_train[it]\n",
    "        #     big_ct = big_ct + 1\n",
    "        count2 = count2 + 1\n",
    "\n",
    "print('==========')\n",
    "print(count)\n",
    "print(count1)\n",
    "print(count2)\n",
    "print(count + count1 + count2)\n",
    "print(len(Y_train_trunc))"
   ]
  },
  {
   "cell_type": "code",
   "execution_count": 69,
   "metadata": {},
   "outputs": [
    {
     "name": "stdout",
     "output_type": "stream",
     "text": [
      "Logistic Regression (Newton)\n",
      "Score train:  0.69\n",
      "Score test 1:  0.3473684210526316\n",
      "Score test 2:  0.35789473684210527\n"
     ]
    }
   ],
   "source": [
    "# even size classses\n",
    "log_reg_clf = LogisticRegression(multi_class='ovr', random_state = 0, max_iter=10000, solver = 'newton-cg').fit(X_train_trunc, Y_train_trunc)\n",
    "\n",
    "print('Logistic Regression (Newton)')\n",
    "print('Score train: ', log_reg_clf.score(X_train_trunc, Y_train_trunc))\n",
    "print('Score test 1: ', log_reg_clf.score(X_test1, Y_test1))\n",
    "print('Score test 2: ', log_reg_clf.score(X_test2, Y_test2))"
   ]
  },
  {
   "attachments": {},
   "cell_type": "markdown",
   "metadata": {},
   "source": [
    "the rankings"
   ]
  },
  {
   "cell_type": "code",
   "execution_count": 70,
   "metadata": {},
   "outputs": [
    {
     "name": "stdout",
     "output_type": "stream",
     "text": [
      "Logistic Regression (Newton)\n",
      "Score train:  0.6832407136589647\n",
      "Score test 1:  0.7105263157894737\n",
      "Score test 2:  0.6210526315789474\n"
     ]
    }
   ],
   "source": [
    "#BEST SO FAR\n",
    "log_reg_clf = LogisticRegression(multi_class='ovr', random_state = 0, max_iter=10000, solver = 'newton-cg').fit(X_train, Y_train)\n",
    "\n",
    "print('Logistic Regression (Newton)')\n",
    "print('Score train: ', log_reg_clf.score(X_train, Y_train))\n",
    "print('Score test 1: ', log_reg_clf.score(X_test1, Y_test1))\n",
    "print('Score test 2: ', log_reg_clf.score(X_test2, Y_test2))"
   ]
  },
  {
   "cell_type": "code",
   "execution_count": 71,
   "metadata": {},
   "outputs": [],
   "source": [
    "y_pred1 = log_reg_clf.predict(X_test1)\n",
    "y_pred2 = log_reg_clf.predict(X_test2)"
   ]
  },
  {
   "cell_type": "code",
   "execution_count": 72,
   "metadata": {},
   "outputs": [
    {
     "ename": "ValueError",
     "evalue": "The truth value of an array with more than one element is ambiguous. Use a.any() or a.all()",
     "output_type": "error",
     "traceback": [
      "\u001b[0;31m---------------------------------------------------------------------------\u001b[0m",
      "\u001b[0;31mValueError\u001b[0m                                Traceback (most recent call last)",
      "Cell \u001b[0;32mIn[72], line 3\u001b[0m\n\u001b[1;32m      1\u001b[0m \u001b[39m# retrieve and sort coefficients\u001b[39;00m\n\u001b[1;32m      2\u001b[0m coefficients \u001b[39m=\u001b[39m \u001b[39mabs\u001b[39m(log_reg_clf\u001b[39m.\u001b[39mcoef_)\n\u001b[0;32m----> 3\u001b[0m sorted_coefficients \u001b[39m=\u001b[39m \u001b[39msorted\u001b[39;49m(\u001b[39menumerate\u001b[39;49m(coefficients), key\u001b[39m=\u001b[39;49m\u001b[39mlambda\u001b[39;49;00m x: x[\u001b[39m1\u001b[39;49m], reverse\u001b[39m=\u001b[39;49m\u001b[39mTrue\u001b[39;49;00m)\n\u001b[1;32m      5\u001b[0m \u001b[39m# print the most influential parameters\u001b[39;00m\n\u001b[1;32m      6\u001b[0m \u001b[39mfor\u001b[39;00m i, coef \u001b[39min\u001b[39;00m sorted_coefficients[:\u001b[39m3\u001b[39m]:\n",
      "\u001b[0;31mValueError\u001b[0m: The truth value of an array with more than one element is ambiguous. Use a.any() or a.all()"
     ]
    }
   ],
   "source": [
    "# retrieve and sort coefficients\n",
    "coefficients = abs(log_reg_clf.coef_)\n",
    "sorted_coefficients = sorted(enumerate(coefficients), key=lambda x: x[1], reverse=True)\n",
    "\n",
    "# print the most influential parameters\n",
    "for i, coef in sorted_coefficients[:3]:\n",
    "    print(f\"Parameter {i}: {coef}\")"
   ]
  },
  {
   "cell_type": "code",
   "execution_count": null,
   "metadata": {},
   "outputs": [
    {
     "name": "stdout",
     "output_type": "stream",
     "text": [
      "SVM SVC\n",
      "Score train:  0.6829482304767476\n",
      "Score test 1:  0.7157894736842105\n",
      "Score test 2:  0.6394736842105263\n"
     ]
    }
   ],
   "source": [
    "svm_clf = svm.SVC(gamma='scale', degree=1, random_state=0, kernel='poly').fit(X_train, Y_train)\n",
    "\n",
    "print('SVM SVC')\n",
    "# print('degree = ', deg)\n",
    "print('Score train: ', svm_clf.score(X_train, Y_train))\n",
    "print('Score test 1: ', svm_clf.score(X_test1, Y_test1))\n",
    "print('Score test 2: ', svm_clf.score(X_test2, Y_test2))"
   ]
  },
  {
   "cell_type": "code",
   "execution_count": null,
   "metadata": {},
   "outputs": [],
   "source": [
    "y_pred1 = svm_clf.predict(X_test1)\n",
    "y_pred2 = svm_clf.predict(X_test2)"
   ]
  },
  {
   "attachments": {},
   "cell_type": "markdown",
   "metadata": {},
   "source": [
    "# 2018-2019"
   ]
  },
  {
   "cell_type": "code",
   "execution_count": null,
   "metadata": {},
   "outputs": [],
   "source": [
    "standing18 = {}\n",
    "indexofteams = []\n",
    "for i in range(len(season_csv_to_array)):\n",
    "    season_number = (int)(season_csv_to_array[i][2][0] + season_csv_to_array[i][2][1])\n",
    "    # print(season_number)\n",
    "    if season_number == 18:\n",
    "        indexofteams.append(i)\n",
    "        if (season_csv_to_array[i][4]) in standing18:\n",
    "            standing18[season_csv_to_array[i][4]] = 0\n",
    "            # print(season_csv_to_array[i][4])\n",
    "        else:\n",
    "            standing18[season_csv_to_array[i][4]] = 0"
   ]
  },
  {
   "cell_type": "code",
   "execution_count": null,
   "metadata": {},
   "outputs": [
    {
     "name": "stdout",
     "output_type": "stream",
     "text": [
      "Manchester United\n",
      "Leicester City\n",
      "Wolverhampton Wanderers\n",
      "Cardiff City\n",
      "West Ham United\n",
      "Liverpool\n",
      "Everton\n",
      "Southampton\n",
      "Brighton and Hove Albion\n",
      "Arsenal\n",
      "AFC Bournemouth\n",
      "Manchester City\n",
      "Watford\n",
      "Crystal Palace\n",
      "Chelsea\n",
      "Burnley\n",
      "Tottenham Hotspur\n",
      "Huddersfield Town\n",
      "Newcastle United\n",
      "Fulham\n"
     ]
    }
   ],
   "source": [
    "it = 1\n",
    "for key in standing18:\n",
    "    # print(it)\n",
    "    print(key)\n",
    "    it = it + 1"
   ]
  },
  {
   "cell_type": "code",
   "execution_count": null,
   "metadata": {},
   "outputs": [],
   "source": [
    "i= 3039\n",
    "for ind in range(len(y_pred1)):\n",
    "    if y_pred1[ind] == 1:\n",
    "        standing18[season_csv_to_array[i][4]] += 3\n",
    "    elif y_pred1[ind] == 0:\n",
    "        standing18[season_csv_to_array[i][4]] += 1\n",
    "        standing18[season_csv_to_array[i][5]] += 1\n",
    "    else:\n",
    "        standing18[season_csv_to_array[i][5]] += 3\n",
    "    i=i+1"
   ]
  },
  {
   "cell_type": "code",
   "execution_count": null,
   "metadata": {},
   "outputs": [
    {
     "name": "stdout",
     "output_type": "stream",
     "text": [
      "{'Manchester City': 106, 'Liverpool': 93, 'Chelsea': 89, 'Manchester United': 71, 'Tottenham Hotspur': 71, 'Wolverhampton Wanderers': 63, 'Everton': 63, 'Leicester City': 61, 'Arsenal': 60, 'Southampton': 59, 'AFC Bournemouth': 59, 'Watford': 50, 'Newcastle United': 45, 'Crystal Palace': 44, 'West Ham United': 39, 'Brighton and Hove Albion': 39, 'Fulham': 34, 'Burnley': 30, 'Cardiff City': 24, 'Huddersfield Town': 18}\n",
      "2018-2019 Premier League Predicted Standings\n",
      "0 \t Manchester City : 106\n",
      "1 \t Liverpool : 93\n",
      "2 \t Chelsea : 89\n",
      "3 \t Manchester United : 71\n",
      "4 \t Tottenham Hotspur : 71\n",
      "5 \t Wolverhampton Wanderers : 63\n",
      "6 \t Everton : 63\n",
      "7 \t Leicester City : 61\n",
      "8 \t Arsenal : 60\n",
      "9 \t Southampton : 59\n",
      "10 \t AFC Bournemouth : 59\n",
      "11 \t Watford : 50\n",
      "12 \t Newcastle United : 45\n",
      "13 \t Crystal Palace : 44\n",
      "14 \t West Ham United : 39\n",
      "15 \t Brighton and Hove Albion : 39\n",
      "16 \t Fulham : 34\n",
      "17 \t Burnley : 30\n",
      "18 \t Cardiff City : 24\n",
      "19 \t Huddersfield Town : 18\n"
     ]
    }
   ],
   "source": [
    "sorted_dict18 = dict(sorted(standing18.items(), key=lambda x: x[1], reverse=True))\n",
    "print(sorted_dict18)\n",
    "ct = 0\n",
    "print('2018-2019 Premier League Predicted Standings')\n",
    "for it in sorted_dict18:\n",
    "    print(ct, '\\t', it, ':', sorted_dict18[it])\n",
    "    ct = ct+1"
   ]
  },
  {
   "cell_type": "code",
   "execution_count": null,
   "metadata": {},
   "outputs": [],
   "source": [
    "actual_values_18 = {\n",
    "            'Manchester City' : (1, 98),\n",
    "            'Liverpool' : (2, 97),\n",
    "            'Chelsea' : (3, 72),\n",
    "            'Tottenham Hotspur' : (4, 71),\n",
    "            'Arsenal' : (5, 70),\n",
    "            'Manchester United' : (6, 66),\n",
    "            'Wolverhampton Wanderers' : (7, 57),\n",
    "            'Everton' : (8, 54),\n",
    "            'Leicester City' : (9, 52),\n",
    "            'West Ham United' : (10, 52),\n",
    "            'Watford' : (11, 50),\n",
    "            'Crystal Palace' : (12, 49),\n",
    "            'Newcastle United' : (13, 45),\n",
    "            'AFC Bournemouth' : (14, 45),\n",
    "            'Burnley' : (15, 40),\n",
    "            'Southampton' : (16, 39),\n",
    "            'Brighton and Hove Albion' : (17, 36),\n",
    "            'Cardiff City' : (18, 34),\n",
    "            'Fulham' : (19, 26),\n",
    "            'Huddersfield Town': (20, 16)\n",
    "}"
   ]
  },
  {
   "cell_type": "code",
   "execution_count": null,
   "metadata": {},
   "outputs": [
    {
     "name": "stdout",
     "output_type": "stream",
     "text": [
      "2018-2019 Premier League Season\n",
      "\n",
      "# \t Team \t\t\t\t Points (pred)\tPoints (real)\tPoints Diff\tPlace Diff\n",
      "__________________________________________________________________________________________________\n",
      "1  :\t Manchester City           \t 106 \t\t  98\t\t   8\t\t   0\n",
      "2  :\t Liverpool                 \t  93 \t\t  97\t\t  -4\t\t   0\n",
      "3  :\t Chelsea                   \t  89 \t\t  72\t\t  17\t\t   0\n",
      "4  :\t Manchester United         \t  71 \t\t  66\t\t   5\t\t   2\n",
      "5  :\t Tottenham Hotspur         \t  71 \t\t  71\t\t   0\t\t  -1\n",
      "6  :\t Wolverhampton Wanderers   \t  63 \t\t  57\t\t   6\t\t   1\n",
      "7  :\t Everton                   \t  63 \t\t  54\t\t   9\t\t   1\n",
      "8  :\t Leicester City            \t  61 \t\t  52\t\t   9\t\t   1\n",
      "9  :\t Arsenal                   \t  60 \t\t  70\t\t -10\t\t  -4\n",
      "10 :\t Southampton               \t  59 \t\t  39\t\t  20\t\t   6\n",
      "11 :\t AFC Bournemouth           \t  59 \t\t  45\t\t  14\t\t   3\n",
      "12 :\t Watford                   \t  50 \t\t  50\t\t   0\t\t  -1\n",
      "13 :\t Newcastle United          \t  45 \t\t  45\t\t   0\t\t   0\n",
      "14 :\t Crystal Palace            \t  44 \t\t  49\t\t  -5\t\t  -2\n",
      "15 :\t West Ham United           \t  39 \t\t  52\t\t -13\t\t  -5\n",
      "16 :\t Brighton and Hove Albion  \t  39 \t\t  36\t\t   3\t\t   1\n",
      "17 :\t Fulham                    \t  34 \t\t  26\t\t   8\t\t   2\n",
      "18 :\t Burnley                   \t  30 \t\t  40\t\t -10\t\t  -3\n",
      "19 :\t Cardiff City              \t  24 \t\t  34\t\t -10\t\t  -1\n",
      "20 :\t Huddersfield Town         \t  18 \t\t  16\t\t   2\t\t   0\n"
     ]
    }
   ],
   "source": [
    "max_len_key = max(len(k) for k in sorted_dict18.keys())  # get the maximum length of keys\n",
    "max_len_value = max(len(str(v)) for v in sorted_dict18.values())  # get the maximum length of values\n",
    "place = 1\n",
    "\n",
    "print('2018-2019 Premier League Season')\n",
    "# print('Logistic Regression, OVR, Newton-CG')\n",
    "print('')\n",
    "print('# \\t Team \\t\\t\\t\\t Points (pred)\\tPoints (real)\\tPoints Diff\\tPlace Diff')\n",
    "print('__________________________________________________________________________________________________')\n",
    "for key, value in sorted_dict18.items():\n",
    "    if place < 10:\n",
    "        print(place, ' :\\t', \"{:{key_width}}  \\t {:{value_width}} \\t\\t {:{value_width}}\\t\\t {:{value_width}}\\t\\t {:{value_width}}\".format(key, value, actual_values_18[key][1], value - actual_values_18[key][1], actual_values_18[key][0] - place, key_width=max_len_key, value_width=max_len_value))\n",
    "    else:\n",
    "        print(place, ':\\t', \"{:{key_width}}  \\t {:{value_width}} \\t\\t {:{value_width}}\\t\\t {:{value_width}}\\t\\t {:{value_width}}\".format(key, value, actual_values_18[key][1], value - actual_values_18[key][1], actual_values_18[key][0] - place, key_width=max_len_key, value_width=max_len_value))\n",
    "    place = place + 1"
   ]
  },
  {
   "cell_type": "code",
   "execution_count": null,
   "metadata": {},
   "outputs": [
    {
     "name": "stdout",
     "output_type": "stream",
     "text": [
      "2018-2019 Premier League Season\n",
      "Champion League Qualification\n",
      "Predicted Teams \t\t Actual Teams\n",
      "_________________________________________________\n",
      "Manchester City         \tManchester City         \n",
      "Liverpool               \tLiverpool               \n",
      "Chelsea                 \tChelsea                 \n",
      "Manchester United       \tTottenham Hotspur       \n",
      "\n",
      "\n",
      "Relegation Battle\n",
      "Predicted Teams \t\t Actual Teams\n",
      "_________________________________________________\n",
      "Burnley                 \tCardiff City            \n",
      "Cardiff City            \tFulham                  \n",
      "Huddersfield Town       \tHuddersfield Town       \n"
     ]
    }
   ],
   "source": [
    "champions_leage_pred = []\n",
    "champions_league_real = ['Manchester City', 'Liverpool', 'Chelsea', 'Tottenham Hotspur']\n",
    "relegation_pred = []\n",
    "relegation_real = ['Cardiff City', 'Fulham', 'Huddersfield Town']\n",
    "\n",
    "place = 1\n",
    "for key, value in sorted_dict18.items():\n",
    "    if place < 5:\n",
    "        champions_leage_pred.append(key)\n",
    "    if place > 17:\n",
    "        relegation_pred.append(key)\n",
    "    place = place + 1\n",
    "print('2018-2019 Premier League Season')\n",
    "print('Champion League Qualification')\n",
    "print('Predicted Teams \\t\\t Actual Teams')\n",
    "print('_________________________________________________')\n",
    "for it in range(0, len(champions_leage_pred)):\n",
    "    print(\"{:{key_width}}\\t{:{key_width}}\".format(champions_leage_pred[it], champions_league_real[it], key_width=max_len_key))\n",
    "print('\\n')\n",
    "print('Relegation Battle')\n",
    "print('Predicted Teams \\t\\t Actual Teams')\n",
    "print('_________________________________________________')\n",
    "for it in range(len(relegation_pred)):\n",
    "    print(\"{:{key_width}}\\t{:{key_width}}\".format(relegation_pred[it], relegation_real[it], key_width=max_len_key))"
   ]
  },
  {
   "attachments": {},
   "cell_type": "markdown",
   "metadata": {},
   "source": [
    "# 2019-2020"
   ]
  },
  {
   "cell_type": "code",
   "execution_count": null,
   "metadata": {},
   "outputs": [],
   "source": [
    "standing19 = {}\n",
    "indexofteams = []\n",
    "for i in range(len(season_csv_to_array)):\n",
    "    season_number = (int)(season_csv_to_array[i][2][0] + season_csv_to_array[i][2][1])\n",
    "    if season_number == 19:\n",
    "        indexofteams.append(i)\n",
    "        if (season_csv_to_array[i][4]) in standing19:\n",
    "            standing19[season_csv_to_array[i][4]] = 0\n",
    "            # print(season_csv_to_array[i][4])\n",
    "        else:\n",
    "            standing19[season_csv_to_array[i][4]] = 0"
   ]
  },
  {
   "cell_type": "code",
   "execution_count": null,
   "metadata": {},
   "outputs": [],
   "source": [
    "i= 3419\n",
    "for ind in range(len(y_pred2)):\n",
    "    if y_pred2[ind] == 1:\n",
    "        standing19[season_csv_to_array[i][4]] += 3\n",
    "    elif y_pred2[ind] == 0:\n",
    "        standing19[season_csv_to_array[i][4]] += 1\n",
    "        standing19[season_csv_to_array[i][5]] += 1\n",
    "    else:\n",
    "        standing19[season_csv_to_array[i][5]] += 3\n",
    "    i=i+1"
   ]
  },
  {
   "cell_type": "code",
   "execution_count": null,
   "metadata": {},
   "outputs": [
    {
     "name": "stdout",
     "output_type": "stream",
     "text": [
      "{'Liverpool': 93, 'Manchester City': 88, 'Manchester United': 84, 'Chelsea': 74, 'Leicester City': 71, 'Everton': 64, 'Wolverhampton Wanderers': 61, 'Tottenham Hotspur': 58, 'Brighton and Hove Albion': 54, 'Sheffield United': 52, 'West Ham United': 52, 'Burnley': 51, 'Aston Villa': 48, 'Southampton': 46, 'Newcastle United': 43, 'Arsenal': 43, 'Crystal Palace': 34, 'AFC Bournemouth': 34, 'Norwich City': 33, 'Watford': 31}\n",
      "2019-2020 Premier League Predicted Standings\n",
      "0 \t Liverpool : 93\n",
      "1 \t Manchester City : 88\n",
      "2 \t Manchester United : 84\n",
      "3 \t Chelsea : 74\n",
      "4 \t Leicester City : 71\n",
      "5 \t Everton : 64\n",
      "6 \t Wolverhampton Wanderers : 61\n",
      "7 \t Tottenham Hotspur : 58\n",
      "8 \t Brighton and Hove Albion : 54\n",
      "9 \t Sheffield United : 52\n",
      "10 \t West Ham United : 52\n",
      "11 \t Burnley : 51\n",
      "12 \t Aston Villa : 48\n",
      "13 \t Southampton : 46\n",
      "14 \t Newcastle United : 43\n",
      "15 \t Arsenal : 43\n",
      "16 \t Crystal Palace : 34\n",
      "17 \t AFC Bournemouth : 34\n",
      "18 \t Norwich City : 33\n",
      "19 \t Watford : 31\n"
     ]
    }
   ],
   "source": [
    "sorted_dict19 = dict(sorted(standing19.items(), key=lambda x: x[1], reverse=True))\n",
    "print(sorted_dict19)\n",
    "ct = 0\n",
    "print('2019-2020 Premier League Predicted Standings')\n",
    "for it in sorted_dict19:\n",
    "    print(ct, '\\t', it, ':', sorted_dict19[it])\n",
    "    ct = ct+1"
   ]
  },
  {
   "cell_type": "code",
   "execution_count": null,
   "metadata": {},
   "outputs": [],
   "source": [
    "actual_values_19 = {\n",
    "            'Liverpool' : (1, 99),\n",
    "            'Manchester City' : (2, 81),\n",
    "            'Manchester United' : (3, 66),\n",
    "            'Chelsea' : (4, 66),\n",
    "            'Leicester City' : (5, 62),\n",
    "            'Tottenham Hotspur' : (6, 59),\n",
    "            'Wolverhampton Wanderers' : (7, 59),\n",
    "            'Arsenal' : (8, 56),\n",
    "            'Sheffield United' : (9, 54),\n",
    "            'Burnley' : (10, 54),\n",
    "            'Southampton' : (11, 52),\n",
    "            'Everton' : (12, 49),\n",
    "            'Newcastle United' : (13, 44),\n",
    "            'Crystal Palace' : (14, 43),\n",
    "            'Brighton and Hove Albion' : (15, 41),\n",
    "            'West Ham United' : (16, 39),\n",
    "            'Aston Villa' : (17, 35),\n",
    "            'AFC Bournemouth' : (18, 34),\n",
    "            'Watford' : (19, 34),\n",
    "            'Norwich City' : (20, 21),\n",
    "}"
   ]
  },
  {
   "cell_type": "code",
   "execution_count": null,
   "metadata": {},
   "outputs": [
    {
     "name": "stdout",
     "output_type": "stream",
     "text": [
      "2019-2020 Premier League Season\n",
      "# \t Team \t\t\t\t Points (pred)\tPoints (real)\tPoints Diff\tPlace Diff\n",
      "__________________________________________________________________________________________________\n",
      "1  :\t Liverpool                 \t 93 \t\t 99\t\t -6\t\t  0\n",
      "2  :\t Manchester City           \t 88 \t\t 81\t\t  7\t\t  0\n",
      "3  :\t Manchester United         \t 84 \t\t 66\t\t 18\t\t  0\n",
      "4  :\t Chelsea                   \t 74 \t\t 66\t\t  8\t\t  0\n",
      "5  :\t Leicester City            \t 71 \t\t 62\t\t  9\t\t  0\n",
      "6  :\t Everton                   \t 64 \t\t 49\t\t 15\t\t  6\n",
      "7  :\t Wolverhampton Wanderers   \t 61 \t\t 59\t\t  2\t\t  0\n",
      "8  :\t Tottenham Hotspur         \t 58 \t\t 59\t\t -1\t\t -2\n",
      "9  :\t Brighton and Hove Albion  \t 54 \t\t 41\t\t 13\t\t  6\n",
      "10 :\t Sheffield United          \t 52 \t\t 54\t\t -2\t\t -1\n",
      "11 :\t West Ham United           \t 52 \t\t 39\t\t 13\t\t  5\n",
      "12 :\t Burnley                   \t 51 \t\t 54\t\t -3\t\t -2\n",
      "13 :\t Aston Villa               \t 48 \t\t 35\t\t 13\t\t  4\n",
      "14 :\t Southampton               \t 46 \t\t 52\t\t -6\t\t -3\n",
      "15 :\t Newcastle United          \t 43 \t\t 44\t\t -1\t\t -2\n",
      "16 :\t Arsenal                   \t 43 \t\t 56\t\t -13\t\t -8\n",
      "17 :\t Crystal Palace            \t 34 \t\t 43\t\t -9\t\t -3\n",
      "18 :\t AFC Bournemouth           \t 34 \t\t 34\t\t  0\t\t  0\n",
      "19 :\t Norwich City              \t 33 \t\t 21\t\t 12\t\t  1\n",
      "20 :\t Watford                   \t 31 \t\t 34\t\t -3\t\t -1\n"
     ]
    }
   ],
   "source": [
    "max_len_key = max(len(k) for k in sorted_dict19.keys())  # get the maximum length of keys\n",
    "max_len_value = max(len(str(v)) for v in sorted_dict19.values())  # get the maximum length of values\n",
    "place = 1\n",
    "\n",
    "print('2019-2020 Premier League Season')\n",
    "print('# \\t Team \\t\\t\\t\\t Points (pred)\\tPoints (real)\\tPoints Diff\\tPlace Diff')\n",
    "print('__________________________________________________________________________________________________')\n",
    "for key, value in sorted_dict19.items():\n",
    "    if place < 10:\n",
    "        print(place, ' :\\t', \"{:{key_width}}  \\t {:{value_width}} \\t\\t {:{value_width}}\\t\\t {:{value_width}}\\t\\t {:{value_width}}\".format(key, value, actual_values_19[key][1], value - actual_values_19[key][1], actual_values_19[key][0] - place, key_width=max_len_key, value_width=max_len_value))\n",
    "    else:\n",
    "        print(place, ':\\t', \"{:{key_width}}  \\t {:{value_width}} \\t\\t {:{value_width}}\\t\\t {:{value_width}}\\t\\t {:{value_width}}\".format(key, value, actual_values_19[key][1], value - actual_values_19[key][1], actual_values_19[key][0] - place, key_width=max_len_key, value_width=max_len_value))\n",
    "    place = place + 1"
   ]
  },
  {
   "cell_type": "code",
   "execution_count": null,
   "metadata": {},
   "outputs": [
    {
     "name": "stdout",
     "output_type": "stream",
     "text": [
      "2019-2020 Premier League Season\n",
      "Champion League Qualification\n",
      "Predicted Teams \t\t Actual Teams\n",
      "_________________________________________________\n",
      "Liverpool               \tLiverpool               \n",
      "Manchester City         \tManchester City         \n",
      "Manchester United       \tManchester United       \n",
      "Chelsea                 \tChelsea                 \n",
      "\n",
      "\n",
      "Relegation Battle\n",
      "Predicted Teams \t\t Actual Teams\n",
      "_________________________________________________\n",
      "AFC Bournemouth         \tAFC Bournemouth         \n",
      "Norwich City            \tWatford                 \n",
      "Watford                 \tNorwich City            \n"
     ]
    }
   ],
   "source": [
    "champions_leage_pred = []\n",
    "champions_league_real = ['Liverpool', 'Manchester City', 'Manchester United', 'Chelsea']\n",
    "relegation_pred = []\n",
    "relegation_real = ['AFC Bournemouth', 'Watford', 'Norwich City']\n",
    "\n",
    "place = 1\n",
    "for key, value in sorted_dict19.items():\n",
    "    if place < 5:\n",
    "        champions_leage_pred.append(key)\n",
    "    if place > 17:\n",
    "        relegation_pred.append(key)\n",
    "    place = place + 1\n",
    "print('2019-2020 Premier League Season')\n",
    "print('Champion League Qualification')\n",
    "print('Predicted Teams \\t\\t Actual Teams')\n",
    "print('_________________________________________________')\n",
    "for it in range(0, len(champions_leage_pred)):\n",
    "    print(\"{:{key_width}}\\t{:{key_width}}\".format(champions_leage_pred[it], champions_league_real[it], key_width=max_len_key))\n",
    "print('\\n')\n",
    "print('Relegation Battle')\n",
    "print('Predicted Teams \\t\\t Actual Teams')\n",
    "print('_________________________________________________')\n",
    "for it in range(len(relegation_pred)):\n",
    "    print(\"{:{key_width}}\\t{:{key_width}}\".format(relegation_pred[it], relegation_real[it], key_width=max_len_key))"
   ]
  },
  {
   "attachments": {},
   "cell_type": "markdown",
   "metadata": {},
   "source": [
    "# End Here"
   ]
  },
  {
   "cell_type": "code",
   "execution_count": null,
   "metadata": {},
   "outputs": [
    {
     "name": "stdout",
     "output_type": "stream",
     "text": [
      "Logistic RegressionCV (newton-cholesky)\n",
      "Score train:  0.674758701374671\n",
      "Score test 1:  0.7026315789473684\n",
      "Score test 2:  0.6394736842105263\n"
     ]
    }
   ],
   "source": [
    "log_reg_clf = LogisticRegressionCV(multi_class='ovr', random_state = 13, max_iter=1000, solver = 'liblinear').fit(X_train, Y_train)\n",
    "\n",
    "print('Logistic RegressionCV (newton-cholesky)')\n",
    "print('Score train: ', log_reg_clf.score(X_train, Y_train))\n",
    "print('Score test 1: ', log_reg_clf.score(X_test1, Y_test1))\n",
    "print('Score test 2: ', log_reg_clf.score(X_test2, Y_test2))"
   ]
  },
  {
   "cell_type": "code",
   "execution_count": null,
   "metadata": {},
   "outputs": [
    {
     "name": "stdout",
     "output_type": "stream",
     "text": [
      "Ridge Classifier (auto)\n",
      "Score train:  0.6390757531441942\n",
      "Score test 1:  0.6605263157894737\n",
      "Score test 2:  0.6368421052631579\n"
     ]
    }
   ],
   "source": [
    "log_reg_clf = RidgeClassifier(alpha=0.001, random_state = 13, max_iter=1000, solver = 'lbfgs', positive=True).fit(X_train, Y_train)\n",
    "\n",
    "print('Ridge Classifier (auto)')\n",
    "print('Score train: ', log_reg_clf.score(X_train, Y_train))\n",
    "print('Score test 1: ', log_reg_clf.score(X_test1, Y_test1))\n",
    "print('Score test 2: ', log_reg_clf.score(X_test2, Y_test2))"
   ]
  },
  {
   "cell_type": "code",
   "execution_count": null,
   "metadata": {},
   "outputs": [
    {
     "ename": "KeyboardInterrupt",
     "evalue": "",
     "output_type": "error",
     "traceback": [
      "\u001b[0;31m---------------------------------------------------------------------------\u001b[0m",
      "\u001b[0;31mKeyboardInterrupt\u001b[0m                         Traceback (most recent call last)",
      "Cell \u001b[0;32mIn[664], line 7\u001b[0m\n\u001b[1;32m      4\u001b[0m svm_clf \u001b[39m=\u001b[39m svm\u001b[39m.\u001b[39mSVC(gamma\u001b[39m=\u001b[39m\u001b[39m'\u001b[39m\u001b[39mscale\u001b[39m\u001b[39m'\u001b[39m, degree\u001b[39m=\u001b[39m\u001b[39m3\u001b[39m, random_state\u001b[39m=\u001b[39mseed)\n\u001b[1;32m      5\u001b[0m svm_clf\u001b[39m.\u001b[39mfit(X_train, Y_train)\n\u001b[0;32m----> 7\u001b[0m score_hist\u001b[39m.\u001b[39mappend(svm_clf\u001b[39m.\u001b[39;49mscore(X_train, Y_train))\n",
      "File \u001b[0;32m~/opt/anaconda3/envs/ee499_ML/lib/python3.9/site-packages/sklearn/base.py:666\u001b[0m, in \u001b[0;36mClassifierMixin.score\u001b[0;34m(self, X, y, sample_weight)\u001b[0m\n\u001b[1;32m    641\u001b[0m \u001b[39m\"\"\"\u001b[39;00m\n\u001b[1;32m    642\u001b[0m \u001b[39mReturn the mean accuracy on the given test data and labels.\u001b[39;00m\n\u001b[1;32m    643\u001b[0m \n\u001b[0;32m   (...)\u001b[0m\n\u001b[1;32m    662\u001b[0m \u001b[39m    Mean accuracy of ``self.predict(X)`` wrt. `y`.\u001b[39;00m\n\u001b[1;32m    663\u001b[0m \u001b[39m\"\"\"\u001b[39;00m\n\u001b[1;32m    664\u001b[0m \u001b[39mfrom\u001b[39;00m \u001b[39m.\u001b[39;00m\u001b[39mmetrics\u001b[39;00m \u001b[39mimport\u001b[39;00m accuracy_score\n\u001b[0;32m--> 666\u001b[0m \u001b[39mreturn\u001b[39;00m accuracy_score(y, \u001b[39mself\u001b[39;49m\u001b[39m.\u001b[39;49mpredict(X), sample_weight\u001b[39m=\u001b[39msample_weight)\n",
      "File \u001b[0;32m~/opt/anaconda3/envs/ee499_ML/lib/python3.9/site-packages/sklearn/svm/_base.py:810\u001b[0m, in \u001b[0;36mBaseSVC.predict\u001b[0;34m(self, X)\u001b[0m\n\u001b[1;32m    808\u001b[0m     y \u001b[39m=\u001b[39m np\u001b[39m.\u001b[39margmax(\u001b[39mself\u001b[39m\u001b[39m.\u001b[39mdecision_function(X), axis\u001b[39m=\u001b[39m\u001b[39m1\u001b[39m)\n\u001b[1;32m    809\u001b[0m \u001b[39melse\u001b[39;00m:\n\u001b[0;32m--> 810\u001b[0m     y \u001b[39m=\u001b[39m \u001b[39msuper\u001b[39;49m()\u001b[39m.\u001b[39;49mpredict(X)\n\u001b[1;32m    811\u001b[0m \u001b[39mreturn\u001b[39;00m \u001b[39mself\u001b[39m\u001b[39m.\u001b[39mclasses_\u001b[39m.\u001b[39mtake(np\u001b[39m.\u001b[39masarray(y, dtype\u001b[39m=\u001b[39mnp\u001b[39m.\u001b[39mintp))\n",
      "File \u001b[0;32m~/opt/anaconda3/envs/ee499_ML/lib/python3.9/site-packages/sklearn/svm/_base.py:435\u001b[0m, in \u001b[0;36mBaseLibSVM.predict\u001b[0;34m(self, X)\u001b[0m\n\u001b[1;32m    433\u001b[0m X \u001b[39m=\u001b[39m \u001b[39mself\u001b[39m\u001b[39m.\u001b[39m_validate_for_predict(X)\n\u001b[1;32m    434\u001b[0m predict \u001b[39m=\u001b[39m \u001b[39mself\u001b[39m\u001b[39m.\u001b[39m_sparse_predict \u001b[39mif\u001b[39;00m \u001b[39mself\u001b[39m\u001b[39m.\u001b[39m_sparse \u001b[39melse\u001b[39;00m \u001b[39mself\u001b[39m\u001b[39m.\u001b[39m_dense_predict\n\u001b[0;32m--> 435\u001b[0m \u001b[39mreturn\u001b[39;00m predict(X)\n",
      "File \u001b[0;32m~/opt/anaconda3/envs/ee499_ML/lib/python3.9/site-packages/sklearn/svm/_base.py:454\u001b[0m, in \u001b[0;36mBaseLibSVM._dense_predict\u001b[0;34m(self, X)\u001b[0m\n\u001b[1;32m    446\u001b[0m         \u001b[39mraise\u001b[39;00m \u001b[39mValueError\u001b[39;00m(\n\u001b[1;32m    447\u001b[0m             \u001b[39m\"\u001b[39m\u001b[39mX.shape[1] = \u001b[39m\u001b[39m%d\u001b[39;00m\u001b[39m should be equal to \u001b[39m\u001b[39m%d\u001b[39;00m\u001b[39m, \u001b[39m\u001b[39m\"\u001b[39m\n\u001b[1;32m    448\u001b[0m             \u001b[39m\"\u001b[39m\u001b[39mthe number of samples at training time\u001b[39m\u001b[39m\"\u001b[39m\n\u001b[1;32m    449\u001b[0m             \u001b[39m%\u001b[39m (X\u001b[39m.\u001b[39mshape[\u001b[39m1\u001b[39m], \u001b[39mself\u001b[39m\u001b[39m.\u001b[39mshape_fit_[\u001b[39m0\u001b[39m])\n\u001b[1;32m    450\u001b[0m         )\n\u001b[1;32m    452\u001b[0m svm_type \u001b[39m=\u001b[39m LIBSVM_IMPL\u001b[39m.\u001b[39mindex(\u001b[39mself\u001b[39m\u001b[39m.\u001b[39m_impl)\n\u001b[0;32m--> 454\u001b[0m \u001b[39mreturn\u001b[39;00m libsvm\u001b[39m.\u001b[39;49mpredict(\n\u001b[1;32m    455\u001b[0m     X,\n\u001b[1;32m    456\u001b[0m     \u001b[39mself\u001b[39;49m\u001b[39m.\u001b[39;49msupport_,\n\u001b[1;32m    457\u001b[0m     \u001b[39mself\u001b[39;49m\u001b[39m.\u001b[39;49msupport_vectors_,\n\u001b[1;32m    458\u001b[0m     \u001b[39mself\u001b[39;49m\u001b[39m.\u001b[39;49m_n_support,\n\u001b[1;32m    459\u001b[0m     \u001b[39mself\u001b[39;49m\u001b[39m.\u001b[39;49m_dual_coef_,\n\u001b[1;32m    460\u001b[0m     \u001b[39mself\u001b[39;49m\u001b[39m.\u001b[39;49m_intercept_,\n\u001b[1;32m    461\u001b[0m     \u001b[39mself\u001b[39;49m\u001b[39m.\u001b[39;49m_probA,\n\u001b[1;32m    462\u001b[0m     \u001b[39mself\u001b[39;49m\u001b[39m.\u001b[39;49m_probB,\n\u001b[1;32m    463\u001b[0m     svm_type\u001b[39m=\u001b[39;49msvm_type,\n\u001b[1;32m    464\u001b[0m     kernel\u001b[39m=\u001b[39;49mkernel,\n\u001b[1;32m    465\u001b[0m     degree\u001b[39m=\u001b[39;49m\u001b[39mself\u001b[39;49m\u001b[39m.\u001b[39;49mdegree,\n\u001b[1;32m    466\u001b[0m     coef0\u001b[39m=\u001b[39;49m\u001b[39mself\u001b[39;49m\u001b[39m.\u001b[39;49mcoef0,\n\u001b[1;32m    467\u001b[0m     gamma\u001b[39m=\u001b[39;49m\u001b[39mself\u001b[39;49m\u001b[39m.\u001b[39;49m_gamma,\n\u001b[1;32m    468\u001b[0m     cache_size\u001b[39m=\u001b[39;49m\u001b[39mself\u001b[39;49m\u001b[39m.\u001b[39;49mcache_size,\n\u001b[1;32m    469\u001b[0m )\n",
      "\u001b[0;31mKeyboardInterrupt\u001b[0m: "
     ]
    }
   ],
   "source": [
    "score_hist = []\n",
    "# nonlinear SVM\n",
    "for seed in range(1, 100):\n",
    "    svm_clf = svm.SVC(gamma='scale', degree=3, random_state=seed)\n",
    "    svm_clf.fit(X_train, Y_train)\n",
    "\n",
    "    score_hist.append(svm_clf.score(X_train, Y_train))\n",
    "\n"
   ]
  },
  {
   "cell_type": "code",
   "execution_count": null,
   "metadata": {},
   "outputs": [
    {
     "name": "stdout",
     "output_type": "stream",
     "text": [
      "SVM SVC\n",
      "Score train:  0.71512138052062\n",
      "Score test 1:  0.7052631578947368\n",
      "Score test 2:  0.6289473684210526\n"
     ]
    }
   ],
   "source": [
    "svm_clf = svm.SVC(gamma='scale', degree=2, random_state=0, kernel='poly')\n",
    "svm_clf.fit(X_train, Y_train)\n",
    "\n",
    "print('SVM SVC')\n",
    "# print('degree = ', deg)\n",
    "print('Score train: ', svm_clf.score(X_train, Y_train))\n",
    "print('Score test 1: ', svm_clf.score(X_test1, Y_test1))\n",
    "print('Score test 2: ', svm_clf.score(X_test2, Y_test2))"
   ]
  },
  {
   "cell_type": "code",
   "execution_count": null,
   "metadata": {},
   "outputs": [
    {
     "name": "stdout",
     "output_type": "stream",
     "text": [
      "SVM LinearSVC\n",
      "Score train:  0.6686165545481135\n",
      "Score test 1:  0.7131578947368421\n",
      "Score test 2:  0.6210526315789474\n"
     ]
    },
    {
     "name": "stderr",
     "output_type": "stream",
     "text": [
      "/Users/natechism/opt/anaconda3/envs/ee499_ML/lib/python3.9/site-packages/sklearn/svm/_base.py:1225: ConvergenceWarning: Liblinear failed to converge, increase the number of iterations.\n",
      "  warnings.warn(\n"
     ]
    }
   ],
   "source": [
    "svm_clf = svm.LinearSVC(penalty= 'l2', loss= 'hinge',random_state=seed)\n",
    "svm_clf.fit(X_train, Y_train)\n",
    "\n",
    "score_hist.append(svm_clf.score(X_train, Y_train))\n",
    "\n",
    "print('SVM LinearSVC')\n",
    "print('Score train: ', svm_clf.score(X_train, Y_train))\n",
    "print('Score test 1: ', svm_clf.score(X_test1, Y_test1))\n",
    "print('Score test 2: ', svm_clf.score(X_test2, Y_test2))"
   ]
  },
  {
   "cell_type": "code",
   "execution_count": null,
   "metadata": {},
   "outputs": [],
   "source": [
    "from sklearn.ensemble import RandomForestClassifier\n",
    "\n",
    "weights = {-1:1.0, 0:1.0, -1:1.0}\n",
    "\n",
    "train_results_hist_depth = []\n",
    "test_results_hist_depth1 = []\n",
    "test_results_hist_depth2 = []\n",
    "\n",
    "for deep in range(1,20):\n",
    "    rfc = RandomForestClassifier(random_state = 42, max_depth=18, criterion='gini', class_weight=weights, n_estimators=deep)\n",
    "    rfc.fit(X_train, Y_train)\n",
    "    y_pred_train = rfc.predict(X_train) \n",
    "    y_pred_test1 = rfc.predict(X_test1)  \n",
    "    y_pred_test2 = rfc.predict(X_test2)\n",
    "\n",
    "    train_results_hist_depth.append(metrics.balanced_accuracy_score(Y_train, y_pred_train))\n",
    "    test_results_hist_depth1.append(metrics.balanced_accuracy_score(Y_test1, y_pred_test1))\n",
    "    test_results_hist_depth2.append(metrics.balanced_accuracy_score(Y_test2, y_pred_test2)) \n",
    "\n"
   ]
  },
  {
   "cell_type": "code",
   "execution_count": null,
   "metadata": {},
   "outputs": [
    {
     "data": {
      "image/png": "[encoded data removed]",
      "text/plain": [
       "<Figure size 640x480 with 1 Axes>"
      ]
     },
     "metadata": {},
     "output_type": "display_data"
    }
   ],
   "source": [
    "plt.plot(range(1,20), train_results_hist_depth, 'xb-', label='train')\n",
    "plt.plot(range(1,20), test_results_hist_depth1, 'sy-', label='test1')\n",
    "plt.plot(range(1,20), test_results_hist_depth2, 'sy-', label='test2')\n",
    "plt.title('Accuracy vs Min Samples Leaf')\n",
    "plt.xlabel('Min Samples Split')\n",
    "plt.ylabel('Accuracy')\n",
    "plt.legend()\n",
    "plt.show()"
   ]
  },
  {
   "cell_type": "code",
   "execution_count": null,
   "metadata": {},
   "outputs": [
    {
     "name": "stdout",
     "output_type": "stream",
     "text": [
      "GradientBoostingClassifier\n",
      "Score train:  0.6408306522374964\n",
      "Score test 1:  0.618421052631579\n",
      "Score test 2:  0.6105263157894737\n"
     ]
    }
   ],
   "source": [
    "#gradient boosting!\n",
    "from sklearn.ensemble import GradientBoostingClassifier\n",
    "\n",
    "gd_boost_clf = GradientBoostingClassifier(n_estimators=7, learning_rate=1.0, max_depth=1, random_state=0).fit(X_train, Y_train)\n",
    "\n",
    "print('GradientBoostingClassifier')\n",
    "print('Score train: ', gd_boost_clf.score(X_train, Y_train))\n",
    "print('Score test 1: ', gd_boost_clf.score(X_test1, Y_test1))\n",
    "print('Score test 2: ', gd_boost_clf.score(X_test2, Y_test2))"
   ]
  },
  {
   "cell_type": "code",
   "execution_count": null,
   "metadata": {},
   "outputs": [],
   "source": [
    "# try MLPClassifier and KNeighborsClassifier"
   ]
  },
  {
   "attachments": {},
   "cell_type": "markdown",
   "metadata": {},
   "source": [
    "# Function"
   ]
  },
  {
   "cell_type": "code",
   "execution_count": null,
   "metadata": {},
   "outputs": [],
   "source": [
    "def predict_season(season_num, model):\n",
    "    if model == 'logReg':\n",
    "        clf = LogisticRegression(multi_class='ovr', random_state = 0, max_iter=10000, solver = 'newton-cg').fit(X_train, Y_train)\n",
    "    elif model == 'SVC1':\n",
    "        clf = svm.SVC(gamma='scale', degree=1, random_state=0, kernel='poly').fit(X_train, Y_train)\n",
    "    elif model == 'SVC2':\n",
    "        clf = svm.SVC(gamma='scale', degree=2, random_state=0, kernel='poly').fit(X_train, Y_train)\n",
    "    else:\n",
    "        return 'No model found. Please Enter a valid model.'\n",
    "    "
   ]
  },
  {
   "cell_type": "code",
   "execution_count": null,
   "metadata": {},
   "outputs": [],
   "source": [
    "predict_season(1, 'logReg')"
   ]
  },
  {
   "cell_type": "code",
   "execution_count": null,
   "metadata": {},
   "outputs": [],
   "source": []
  }
 ],
 "metadata": {
  "kernelspec": {
   "display_name": "ee499_ML",
   "language": "python",
   "name": "python3"
  },
  "language_info": {
   "codemirror_mode": {
    "name": "ipython",
    "version": 3
   },
   "file_extension": ".py",
   "mimetype": "text/x-python",
   "name": "python",
   "nbconvert_exporter": "python",
   "pygments_lexer": "ipython3",
   "version": "3.9.15"
  },
  "orig_nbformat": 4
 },
 "nbformat": 4,
 "nbformat_minor": 2
}
