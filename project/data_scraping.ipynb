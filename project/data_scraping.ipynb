{
 "cells": [
  {
   "cell_type": "code",
   "execution_count": 119,
   "metadata": {},
   "outputs": [],
   "source": [
    "import requests\n",
    "from bs4 import BeautifulSoup\n",
    "import pandas as pd"
   ]
  },
  {
   "cell_type": "code",
   "execution_count": 147,
   "metadata": {},
   "outputs": [],
   "source": [
    "headers = {'User-Agent': 'Mozilla/5.0 (Macintosh; Intel Mac OS X 10_11_2) AppleWebKit/601.3.9 (KHTML, like Gecko) Version/9.0.2 Safari/601.3.9'}\n",
    "\n",
    "page = 'https://www.transfermarkt.us/premier-league/marktwerte/wettbewerb/GB1/pos//detailpos/0/altersklasse/alle/plus/1'\n",
    "# page = 'https://www.transfermarkt.co.uk/fc-arsenal/startseite/verein/11/saison_id/2022'\n",
    "pageTree = requests.get(page, headers=headers)\n",
    "pageSoup = BeautifulSoup(pageTree.content, 'html.parser')"
   ]
  },
  {
   "cell_type": "code",
   "execution_count": 158,
   "metadata": {},
   "outputs": [],
   "source": [
    "# print(pageSoup)"
   ]
  },
  {
   "cell_type": "code",
   "execution_count": 122,
   "metadata": {},
   "outputs": [],
   "source": []
  },
  {
   "cell_type": "code",
   "execution_count": 149,
   "metadata": {},
   "outputs": [],
   "source": [
    "Players = pageSoup. find_all(\"img\", {\"class\": \"bilderrahmen-fixed lazy lazy\"})\n",
    "Age = pageSoup. find_all(\"td\", {\"class\": \"zentriert\"})\n",
    "Positions = pageSoup.find_all(\"td\", {\"class\": [\"zentriert rueckennummer bg_Torwart\",\n",
    "                                                \"zentriert rueckennummer bg Abwehr\",\n",
    "                                                \"zentriert rueckennummer b Mittelfeld\",\n",
    "                                                \"zentriert rueckennummer bg_Sturm\",\n",
    "                                                \"spieler-zusatz\"]})\n",
    "# Sil-laccll. llaontriortill\n",
    "Nationality = pageSoup. find_all(\"td\", {\"class\": \"zentriert\"})\n",
    "Values = pageSoup. find_all(\"td\", {\"class\" : \"rechts hauptlink\"})"
   ]
  },
  {
   "cell_type": "code",
   "execution_count": 172,
   "metadata": {},
   "outputs": [
    {
     "name": "stdout",
     "output_type": "stream",
     "text": [
      "<td class=\"zentriert\">1</td>\n",
      "<td class=\"zentriert\"><img alt=\"Norway\" class=\"flaggenrahmen\" src=\"https://tmssl.akamaized.net/images/flagge/verysmall/125.png?lm=1520611569\" title=\"Norway\"/></td>\n",
      "<td class=\"zentriert\">22</td>\n",
      "<td class=\"zentriert\"><a href=\"/manchester-city/startseite/verein/281/saison_id/2022\" title=\"Manchester City\"><img alt=\"Manchester City\" class=\"\" src=\"https://tmssl.akamaized.net/images/wappen/verysmall/281.png?lm=1467356331\" title=\"Manchester City\"/></a></td>\n",
      "<td class=\"zentriert\">Nov 3, 2022</td>\n",
      "<td class=\"zentriert\">2</td>\n",
      "<td class=\"zentriert\"><img alt=\"England\" class=\"flaggenrahmen\" src=\"https://tmssl.akamaized.net/images/flagge/verysmall/189.png?lm=1520611569\" title=\"England\"/></td>\n",
      "<td class=\"zentriert\">22</td>\n"
     ]
    }
   ],
   "source": [
    "print(Age[7])"
   ]
  },
  {
   "cell_type": "code",
   "execution_count": 219,
   "metadata": {},
   "outputs": [
    {
     "name": "stdout",
     "output_type": "stream",
     "text": [
      "<img alt=\"Erling Haaland\" class=\"bilderrahmen-fixed lazy lazy\" data-src=\"https://img.a.transfermarkt.technology/portrait/medium/418560-1656179352.jpg?lm=1\" src=\"data:image/gif;base64,R0lGODlhAQABAIAAAMLCwgAAACH5BAAAAAAALAAAAAABAAEAAAICRAEAOw==\" title=\"Erling Haaland\"/>\n",
      "Erling Haaland\n"
     ]
    }
   ],
   "source": [
    "print(Players[0])\n",
    "print(str(Players[0]).split('\" class', 1)[0].split('<img alt=\"' ,1)[1])"
   ]
  },
  {
   "cell_type": "code",
   "execution_count": 243,
   "metadata": {},
   "outputs": [
    {
     "name": "stdout",
     "output_type": "stream",
     "text": [
      "€170.00m \n",
      "€110.00m \n",
      "€110.00m \n",
      "€90.00m \n",
      "€85.00m \n",
      "€80.00m \n",
      "€80.00m \n",
      "€80.00m \n",
      "€80.00m \n",
      "€80.00m \n",
      "€80.00m \n",
      "€75.00m \n",
      "€75.00m \n",
      "€75.00m \n",
      "€75.00m \n",
      "€70.00m \n",
      "€70.00m \n",
      "€70.00m \n",
      "€70.00m \n",
      "€70.00m \n",
      "€70.00m \n",
      "€65.00m \n",
      "€65.00m \n",
      "€65.00m \n",
      "€60.00m \n"
     ]
    }
   ],
   "source": [
    "for i in range(1, (len(Players)*5), 5):\n",
    "    # print(i)\n",
    "    # print(Age[i])\n",
    "    # print(str(Age[i]).split(\"(\",1)[1].split(\")\", 1)[0])\n",
    "    # print(str(Players[i]).split('\" class', 1) [0].split('<img alt=\"' ,1)[1])\n",
    "    # print(Nationality[i])\n",
    "    print(str(Nationality[i]).split('title=\"')[1].split('')[0])\n",
    "# print(Age[7])\n",
    "# print(str(Age[7]).split(\">\")[1].split('<')[0])"
   ]
  },
  {
   "cell_type": "code",
   "execution_count": 245,
   "metadata": {},
   "outputs": [],
   "source": [
    "PlayersList = []\n",
    "AgeList = []\n",
    "# PositionsList = []\n",
    "NationList = []\n",
    "ValuesList = [] \n",
    "\n",
    "for i in range(0, len(Players)):\n",
    "    PlayersList.append(str(Players[i]).split('\" class', 1) [0].split('<img alt=\"' ,1)[1])\n",
    "    # print(str(Players[i]).split('\" class', 1) [0].split('<img alt=\"' ,1)[1])\n",
    "\n",
    "for i in range(2, (len(Players)*3), 5):\n",
    "    # print(i)\n",
    "    # AgeList.append(str(Age[i]).split(\"(\",1)[1].split(\")\", 1)[0])    #old version\n",
    "    AgeList.append(str(Age[i]).split(\">\")[1].split('<')[0]) #new version\n",
    "    # print(str(Age[i]).split(\"(\",1)[1].split(\")\", 1)[0])\n",
    "\n",
    "# for i in range(0, len(Positions)):\n",
    "#     PositionsList.append(str(Positions[i]).split('title=\"', 1)[1].split('\"><div')[0])\n",
    "#     print(str(Positions[i]).split('title=\"', 1)[1].split('\"><div')[0])\n",
    "\n",
    "for i in range(1, (len(Players)*5),5):\n",
    "    # NationList.append(str(Nationality[i]).split('title=\"', 1)[1].split('\"/',1)[0])\n",
    "    NationList.append(str(Nationality[i]).split('title=\"')[1].split('\"/')[0])# new version\n",
    "\n",
    "for i in range(len(Values)):\n",
    "    ValuesList.append(Values[i].text)"
   ]
  },
  {
   "cell_type": "code",
   "execution_count": 246,
   "metadata": {},
   "outputs": [],
   "source": [
    "# PlayersList\n",
    "cleaned_values = []\n",
    "# print('values list 0', ValuesList[0])\n",
    "for a in list(range(len(ValuesList))):\n",
    "    # print(a)\n",
    "    if 'm' in ValuesList[a]:\n",
    "        cleaned_values.append(float(str(ValuesList[a]).split('m\\xa0')[0].split('€')[1])*1000000)\n",
    "    elif 'Th.' in ValuesList[a]:\n",
    "        cleaned_values.append(float(str(ValuesList[a]).split('Th.\\xa0')[0].split('€')[1])*1000)\n",
    "    else:\n",
    "        cleaned_values.append(float(a))"
   ]
  },
  {
   "cell_type": "code",
   "execution_count": 247,
   "metadata": {},
   "outputs": [
    {
     "name": "stdout",
     "output_type": "stream",
     "text": [
      "25\n",
      "15\n",
      "25\n",
      "25\n"
     ]
    }
   ],
   "source": [
    "print(len(PlayersList))\n",
    "print(len(AgeList))\n",
    "# print(len(PositionsList))\n",
    "print(len(NationList))\n",
    "print(len(ValuesList))\n"
   ]
  },
  {
   "cell_type": "code",
   "execution_count": 250,
   "metadata": {},
   "outputs": [],
   "source": [
    "final_df = pd.DataFrame({\"Player\":PlayersList,\n",
    "                        #  \"Age\":AgeList,\n",
    "                        #  \"Position\":PositionsList,\n",
    "                         \"Nation\":NationList,\n",
    "                         \"Value\":cleaned_values})"
   ]
  },
  {
   "cell_type": "code",
   "execution_count": 251,
   "metadata": {},
   "outputs": [
    {
     "data": {
      "text/html": [
       "<div>\n",
       "<style scoped>\n",
       "    .dataframe tbody tr th:only-of-type {\n",
       "        vertical-align: middle;\n",
       "    }\n",
       "\n",
       "    .dataframe tbody tr th {\n",
       "        vertical-align: top;\n",
       "    }\n",
       "\n",
       "    .dataframe thead th {\n",
       "        text-align: right;\n",
       "    }\n",
       "</style>\n",
       "<table border=\"1\" class=\"dataframe\">\n",
       "  <thead>\n",
       "    <tr style=\"text-align: right;\">\n",
       "      <th></th>\n",
       "      <th>Player</th>\n",
       "      <th>Nation</th>\n",
       "      <th>Value</th>\n",
       "    </tr>\n",
       "  </thead>\n",
       "  <tbody>\n",
       "    <tr>\n",
       "      <th>0</th>\n",
       "      <td>Erling Haaland</td>\n",
       "      <td>Norway</td>\n",
       "      <td>170000000.0</td>\n",
       "    </tr>\n",
       "    <tr>\n",
       "      <th>1</th>\n",
       "      <td>Phil Foden</td>\n",
       "      <td>England</td>\n",
       "      <td>110000000.0</td>\n",
       "    </tr>\n",
       "    <tr>\n",
       "      <th>2</th>\n",
       "      <td>Bukayo Saka</td>\n",
       "      <td>England</td>\n",
       "      <td>110000000.0</td>\n",
       "    </tr>\n",
       "    <tr>\n",
       "      <th>3</th>\n",
       "      <td>Harry Kane</td>\n",
       "      <td>England</td>\n",
       "      <td>90000000.0</td>\n",
       "    </tr>\n",
       "    <tr>\n",
       "      <th>4</th>\n",
       "      <td>Enzo Fernández</td>\n",
       "      <td>Argentina</td>\n",
       "      <td>85000000.0</td>\n",
       "    </tr>\n",
       "    <tr>\n",
       "      <th>5</th>\n",
       "      <td>Declan Rice</td>\n",
       "      <td>England</td>\n",
       "      <td>80000000.0</td>\n",
       "    </tr>\n",
       "    <tr>\n",
       "      <th>6</th>\n",
       "      <td>Rodri</td>\n",
       "      <td>Spain</td>\n",
       "      <td>80000000.0</td>\n",
       "    </tr>\n",
       "    <tr>\n",
       "      <th>7</th>\n",
       "      <td>Martin Ødegaard</td>\n",
       "      <td>Norway</td>\n",
       "      <td>80000000.0</td>\n",
       "    </tr>\n",
       "    <tr>\n",
       "      <th>8</th>\n",
       "      <td>Kevin De Bruyne</td>\n",
       "      <td>Belgium</td>\n",
       "      <td>80000000.0</td>\n",
       "    </tr>\n",
       "    <tr>\n",
       "      <th>9</th>\n",
       "      <td>Bernardo Silva</td>\n",
       "      <td>Portugal</td>\n",
       "      <td>80000000.0</td>\n",
       "    </tr>\n",
       "    <tr>\n",
       "      <th>10</th>\n",
       "      <td>Marcus Rashford</td>\n",
       "      <td>England</td>\n",
       "      <td>80000000.0</td>\n",
       "    </tr>\n",
       "    <tr>\n",
       "      <th>11</th>\n",
       "      <td>Gabriel Jesus</td>\n",
       "      <td>Brazil</td>\n",
       "      <td>75000000.0</td>\n",
       "    </tr>\n",
       "    <tr>\n",
       "      <th>12</th>\n",
       "      <td>Luis Díaz</td>\n",
       "      <td>Colombia</td>\n",
       "      <td>75000000.0</td>\n",
       "    </tr>\n",
       "    <tr>\n",
       "      <th>13</th>\n",
       "      <td>Bruno Fernandes</td>\n",
       "      <td>Portugal</td>\n",
       "      <td>75000000.0</td>\n",
       "    </tr>\n",
       "    <tr>\n",
       "      <th>14</th>\n",
       "      <td>Rúben Dias</td>\n",
       "      <td>Portugal</td>\n",
       "      <td>75000000.0</td>\n",
       "    </tr>\n",
       "    <tr>\n",
       "      <th>15</th>\n",
       "      <td>Mohamed Salah</td>\n",
       "      <td>Egypt</td>\n",
       "      <td>70000000.0</td>\n",
       "    </tr>\n",
       "    <tr>\n",
       "      <th>16</th>\n",
       "      <td>Jack Grealish</td>\n",
       "      <td>England</td>\n",
       "      <td>70000000.0</td>\n",
       "    </tr>\n",
       "    <tr>\n",
       "      <th>17</th>\n",
       "      <td>Antony</td>\n",
       "      <td>Brazil</td>\n",
       "      <td>70000000.0</td>\n",
       "    </tr>\n",
       "    <tr>\n",
       "      <th>18</th>\n",
       "      <td>Darwin Núñez</td>\n",
       "      <td>Uruguay</td>\n",
       "      <td>70000000.0</td>\n",
       "    </tr>\n",
       "    <tr>\n",
       "      <th>19</th>\n",
       "      <td>Gabriel Martinelli</td>\n",
       "      <td>Brazil</td>\n",
       "      <td>70000000.0</td>\n",
       "    </tr>\n",
       "    <tr>\n",
       "      <th>20</th>\n",
       "      <td>Reece James</td>\n",
       "      <td>England</td>\n",
       "      <td>70000000.0</td>\n",
       "    </tr>\n",
       "    <tr>\n",
       "      <th>21</th>\n",
       "      <td>Wesley Fofana</td>\n",
       "      <td>France</td>\n",
       "      <td>65000000.0</td>\n",
       "    </tr>\n",
       "    <tr>\n",
       "      <th>22</th>\n",
       "      <td>Mason Mount</td>\n",
       "      <td>England</td>\n",
       "      <td>65000000.0</td>\n",
       "    </tr>\n",
       "    <tr>\n",
       "      <th>23</th>\n",
       "      <td>Trent Alexander-Arnold</td>\n",
       "      <td>England</td>\n",
       "      <td>65000000.0</td>\n",
       "    </tr>\n",
       "    <tr>\n",
       "      <th>24</th>\n",
       "      <td>Cody Gakpo</td>\n",
       "      <td>Netherlands</td>\n",
       "      <td>60000000.0</td>\n",
       "    </tr>\n",
       "  </tbody>\n",
       "</table>\n",
       "</div>"
      ],
      "text/plain": [
       "                    Player       Nation        Value\n",
       "0           Erling Haaland       Norway  170000000.0\n",
       "1               Phil Foden      England  110000000.0\n",
       "2              Bukayo Saka      England  110000000.0\n",
       "3               Harry Kane      England   90000000.0\n",
       "4           Enzo Fernández    Argentina   85000000.0\n",
       "5              Declan Rice      England   80000000.0\n",
       "6                    Rodri        Spain   80000000.0\n",
       "7          Martin Ødegaard       Norway   80000000.0\n",
       "8          Kevin De Bruyne      Belgium   80000000.0\n",
       "9           Bernardo Silva     Portugal   80000000.0\n",
       "10         Marcus Rashford      England   80000000.0\n",
       "11           Gabriel Jesus       Brazil   75000000.0\n",
       "12               Luis Díaz     Colombia   75000000.0\n",
       "13         Bruno Fernandes     Portugal   75000000.0\n",
       "14              Rúben Dias     Portugal   75000000.0\n",
       "15           Mohamed Salah        Egypt   70000000.0\n",
       "16           Jack Grealish      England   70000000.0\n",
       "17                  Antony       Brazil   70000000.0\n",
       "18            Darwin Núñez      Uruguay   70000000.0\n",
       "19      Gabriel Martinelli       Brazil   70000000.0\n",
       "20             Reece James      England   70000000.0\n",
       "21           Wesley Fofana       France   65000000.0\n",
       "22             Mason Mount      England   65000000.0\n",
       "23  Trent Alexander-Arnold      England   65000000.0\n",
       "24              Cody Gakpo  Netherlands   60000000.0"
      ]
     },
     "execution_count": 251,
     "metadata": {},
     "output_type": "execute_result"
    }
   ],
   "source": [
    "final_df"
   ]
  },
  {
   "cell_type": "code",
   "execution_count": null,
   "metadata": {},
   "outputs": [],
   "source": []
  },
  {
   "attachments": {},
   "cell_type": "markdown",
   "metadata": {},
   "source": [
    "# Part 2"
   ]
  }
 ],
 "metadata": {
  "kernelspec": {
   "display_name": "ee499_ML",
   "language": "python",
   "name": "python3"
  },
  "language_info": {
   "codemirror_mode": {
    "name": "ipython",
    "version": 3
   },
   "file_extension": ".py",
   "mimetype": "text/x-python",
   "name": "python",
   "nbconvert_exporter": "python",
   "pygments_lexer": "ipython3",
   "version": "3.9.15"
  },
  "orig_nbformat": 4
 },
 "nbformat": 4,
 "nbformat_minor": 2
}
